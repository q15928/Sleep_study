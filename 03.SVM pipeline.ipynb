{
 "cells": [
  {
   "cell_type": "markdown",
   "metadata": {},
   "source": [
    "# SVM for sleep staging classification\n",
    "We train a SVM model to automatically classify sleep staging for the two datasets.\n",
    "\n",
    "### Preprocessing\n",
    "It is required to perform the preprocessing before training the SVM model:\n",
    "* Use forward-filling to fill any missing data for the features\n",
    "* Standardise the features to zero mean and unit variance which will improve the performance of SVM\n",
    "\n",
    "We use [ffill](http://pandas.pydata.org/pandas-docs/stable/generated/pandas.DataFrame.ffill.html) and [bfill](http://pandas.pydata.org/pandas-docs/stable/generated/pandas.DataFrame.bfill.html) from pandas to perform filling. \n",
    "\n",
    "We use [StandardScaler](http://scikit-learn.org/stable/modules/generated/sklearn.preprocessing.StandardScaler.html) from scikit-learn to perform feature standardization. We need to apply the same transformation later on the test set. We utilise the [pipeline](http://scikit-learn.org/stable/modules/generated/sklearn.pipeline.Pipeline.html) tool provided by scikit-learn to build up the pipeline of feature standardisation and SVM model.\n",
    "\n",
    "### Evaluation\n",
    "We use 10-fold cross-validation for evalation of classifer's performance. Because of the imbalanced datasets, it is important to maintain the proportion of the class distribution for each fold. Scikit-learn provides a nice function called [StratifiedKFold](http://scikit-learn.org/stable/modules/generated/sklearn.model_selection.StratifiedKFold.html) to implement this.\n",
    " \n",
    "\n",
    "We use the performance metrics such as accuracy, precision, recall and F1-score\n"
   ]
  },
  {
   "cell_type": "code",
   "execution_count": 2,
   "metadata": {
    "collapsed": false
   },
   "outputs": [
    {
     "name": "stderr",
     "output_type": "stream",
     "text": [
      "/home/qfen8290/miniconda3/lib/python3.5/site-packages/sklearn/cross_validation.py:44: DeprecationWarning: This module was deprecated in version 0.18 in favor of the model_selection module into which all the refactored classes and functions are moved. Also note that the interface of the new CV iterators are different from that of this module. This module will be removed in 0.20.\n",
      "  \"This module will be removed in 0.20.\", DeprecationWarning)\n"
     ]
    }
   ],
   "source": [
    "import numpy as np\n",
    "import pandas as pd\n",
    "import matplotlib.pyplot as plt\n",
    "import matplotlib\n",
    "import seaborn as sns\n",
    "import xgboost as xgb\n",
    "from sklearn.svm import SVC\n",
    "from sklearn.pipeline import Pipeline\n",
    "from sklearn.preprocessing import StandardScaler\n",
    "from sklearn.metrics import classification_report, accuracy_score, log_loss, confusion_matrix, precision_recall_fscore_support\n",
    "from sklearn.metrics import precision_score, recall_score, f1_score, log_loss\n",
    "# from sklearn.grid_search import GridSearchCV\n",
    "from sklearn import model_selection\n",
    "# from sklearn.cross_validation import StratifiedKFold, cross_val_score, train_test_split\n",
    "from sklearn.ensemble import BaggingClassifier\n",
    "from sklearn.model_selection import StratifiedKFold, cross_val_score, train_test_split, GridSearchCV\n",
    "from sklearn.datasets import load_iris\n",
    "import generic_func\n",
    "import importlib\n",
    "\n",
    "%matplotlib inline\n",
    "matplotlib.style.use('ggplot')\n",
    "pd.set_option('display.max_rows', 20)\n",
    "matplotlib.rcParams['figure.figsize'] = (8, 6)"
   ]
  },
  {
   "cell_type": "markdown",
   "metadata": {},
   "source": [
    "# SVM classifier for subjects with Actigraphy data - dataset 1"
   ]
  },
  {
   "cell_type": "markdown",
   "metadata": {},
   "source": [
    "## Build a SVM classifier pipeline with standard scaler"
   ]
  },
  {
   "cell_type": "code",
   "execution_count": 10,
   "metadata": {
    "collapsed": true
   },
   "outputs": [],
   "source": [
    "pp_list = []\n",
    "scaler = StandardScaler()\n",
    "pp_list.append(('scaler', scaler))\n",
    "svc = SVC(cache_size=2000, class_weight='balanced')\n",
    "pp_list.append(('svc', svc))\n",
    "pipeline = Pipeline(pp_list)"
   ]
  },
  {
   "cell_type": "markdown",
   "metadata": {},
   "source": [
    "## Load data"
   ]
  },
  {
   "cell_type": "code",
   "execution_count": 3,
   "metadata": {
    "collapsed": false
   },
   "outputs": [
    {
     "name": "stdout",
     "output_type": "stream",
     "text": [
      "<class 'pandas.core.frame.DataFrame'>\n",
      "DatetimeIndex: 19369 entries, 2015-09-09 20:47:01 to 2015-10-01 07:01:16\n",
      "Data columns (total 21 columns):\n",
      "Abdomen        19346 non-null float64\n",
      "Activity       19365 non-null float64\n",
      "Calf           18541 non-null float64\n",
      "Chest          19361 non-null float64\n",
      "Fingertip      19348 non-null float64\n",
      "Foot           19336 non-null float64\n",
      "Forearm        19356 non-null float64\n",
      "Forehead       19361 non-null float64\n",
      "HR_mean        17791 non-null float64\n",
      "HR_stdev       17773 non-null float64\n",
      "Hand           18303 non-null float64\n",
      "Patient_id     19369 non-null object\n",
      "ST_DPG         19352 non-null float64\n",
      "ST_Distal      19352 non-null float64\n",
      "ST_Proximal    19361 non-null float64\n",
      "Scapula        19354 non-null float64\n",
      "Staging        19369 non-null object\n",
      "Toe            17933 non-null float64\n",
      "Upperarm       19361 non-null float64\n",
      "Upperleg       19342 non-null float64\n",
      "White Light    19365 non-null float64\n",
      "dtypes: float64(19), object(2)\n",
      "memory usage: 3.3+ MB\n"
     ]
    }
   ],
   "source": [
    "# df = pd.read_csv(\"./Input//svm_data_clean_160926.csv\")\n",
    "df = pd.read_csv(\"./Input/ins_subjects_161014.csv\", index_col=0, parse_dates=True)\n",
    "df.info()"
   ]
  },
  {
   "cell_type": "code",
   "execution_count": 5,
   "metadata": {
    "collapsed": true
   },
   "outputs": [
    {
     "data": {
      "text/html": [
       "<div>\n",
       "<table border=\"1\" class=\"dataframe\">\n",
       "  <thead>\n",
       "    <tr style=\"text-align: right;\">\n",
       "      <th></th>\n",
       "      <th>Abdomen</th>\n",
       "      <th>Activity</th>\n",
       "      <th>Calf</th>\n",
       "      <th>Chest</th>\n",
       "      <th>Fingertip</th>\n",
       "      <th>Foot</th>\n",
       "      <th>Forearm</th>\n",
       "      <th>Forehead</th>\n",
       "      <th>HR_mean</th>\n",
       "      <th>HR_stdev</th>\n",
       "      <th>...</th>\n",
       "      <th>Patient_id</th>\n",
       "      <th>Scapula</th>\n",
       "      <th>Staging</th>\n",
       "      <th>Toe</th>\n",
       "      <th>Upperarm</th>\n",
       "      <th>Upperleg</th>\n",
       "      <th>White Light</th>\n",
       "      <th>ST_Distal</th>\n",
       "      <th>ST_Proximal</th>\n",
       "      <th>ST_DPG</th>\n",
       "    </tr>\n",
       "  </thead>\n",
       "  <tbody>\n",
       "    <tr>\n",
       "      <th>2015-09-09 20:47:01</th>\n",
       "      <td>33.8525</td>\n",
       "      <td>6.0</td>\n",
       "      <td>32.54225</td>\n",
       "      <td>32.87400</td>\n",
       "      <td>31.93225</td>\n",
       "      <td>34.49425</td>\n",
       "      <td>32.4790</td>\n",
       "      <td>34.5505</td>\n",
       "      <td>0.763625</td>\n",
       "      <td>0.083970</td>\n",
       "      <td>...</td>\n",
       "      <td>INS_WI_004</td>\n",
       "      <td>33.2430</td>\n",
       "      <td>SLEEP-S0</td>\n",
       "      <td>32.1250</td>\n",
       "      <td>32.4985</td>\n",
       "      <td>31.46000</td>\n",
       "      <td>5.30</td>\n",
       "      <td>32.757625</td>\n",
       "      <td>32.671250</td>\n",
       "      <td>-0.086375</td>\n",
       "    </tr>\n",
       "    <tr>\n",
       "      <th>2015-09-09 20:47:31</th>\n",
       "      <td>33.8525</td>\n",
       "      <td>27.0</td>\n",
       "      <td>32.54225</td>\n",
       "      <td>32.87400</td>\n",
       "      <td>31.93225</td>\n",
       "      <td>34.49425</td>\n",
       "      <td>32.4790</td>\n",
       "      <td>34.5505</td>\n",
       "      <td>0.757949</td>\n",
       "      <td>0.077656</td>\n",
       "      <td>...</td>\n",
       "      <td>INS_WI_004</td>\n",
       "      <td>33.2430</td>\n",
       "      <td>SLEEP-S0</td>\n",
       "      <td>32.1250</td>\n",
       "      <td>32.4985</td>\n",
       "      <td>31.46000</td>\n",
       "      <td>0.72</td>\n",
       "      <td>32.757625</td>\n",
       "      <td>32.671250</td>\n",
       "      <td>-0.086375</td>\n",
       "    </tr>\n",
       "    <tr>\n",
       "      <th>2015-09-09 20:48:01</th>\n",
       "      <td>33.9460</td>\n",
       "      <td>23.0</td>\n",
       "      <td>32.76025</td>\n",
       "      <td>32.96725</td>\n",
       "      <td>32.49375</td>\n",
       "      <td>34.72850</td>\n",
       "      <td>32.5415</td>\n",
       "      <td>34.5820</td>\n",
       "      <td>0.722714</td>\n",
       "      <td>0.068939</td>\n",
       "      <td>...</td>\n",
       "      <td>INS_WI_004</td>\n",
       "      <td>33.2745</td>\n",
       "      <td>SLEEP-S0</td>\n",
       "      <td>32.8265</td>\n",
       "      <td>32.5455</td>\n",
       "      <td>31.52275</td>\n",
       "      <td>0.59</td>\n",
       "      <td>33.147563</td>\n",
       "      <td>32.745375</td>\n",
       "      <td>-0.402188</td>\n",
       "    </tr>\n",
       "  </tbody>\n",
       "</table>\n",
       "<p>3 rows × 21 columns</p>\n",
       "</div>"
      ],
      "text/plain": [
       "                     Abdomen  Activity      Calf     Chest  Fingertip  \\\n",
       "2015-09-09 20:47:01  33.8525       6.0  32.54225  32.87400   31.93225   \n",
       "2015-09-09 20:47:31  33.8525      27.0  32.54225  32.87400   31.93225   \n",
       "2015-09-09 20:48:01  33.9460      23.0  32.76025  32.96725   32.49375   \n",
       "\n",
       "                         Foot  Forearm  Forehead   HR_mean  HR_stdev  \\\n",
       "2015-09-09 20:47:01  34.49425  32.4790   34.5505  0.763625  0.083970   \n",
       "2015-09-09 20:47:31  34.49425  32.4790   34.5505  0.757949  0.077656   \n",
       "2015-09-09 20:48:01  34.72850  32.5415   34.5820  0.722714  0.068939   \n",
       "\n",
       "                       ...     Patient_id  Scapula   Staging      Toe  \\\n",
       "2015-09-09 20:47:01    ...     INS_WI_004  33.2430  SLEEP-S0  32.1250   \n",
       "2015-09-09 20:47:31    ...     INS_WI_004  33.2430  SLEEP-S0  32.1250   \n",
       "2015-09-09 20:48:01    ...     INS_WI_004  33.2745  SLEEP-S0  32.8265   \n",
       "\n",
       "                     Upperarm  Upperleg  White Light  ST_Distal  ST_Proximal  \\\n",
       "2015-09-09 20:47:01   32.4985  31.46000         5.30  32.757625    32.671250   \n",
       "2015-09-09 20:47:31   32.4985  31.46000         0.72  32.757625    32.671250   \n",
       "2015-09-09 20:48:01   32.5455  31.52275         0.59  33.147563    32.745375   \n",
       "\n",
       "                       ST_DPG  \n",
       "2015-09-09 20:47:01 -0.086375  \n",
       "2015-09-09 20:47:31 -0.086375  \n",
       "2015-09-09 20:48:01 -0.402188  \n",
       "\n",
       "[3 rows x 21 columns]"
      ]
     },
     "execution_count": 5,
     "metadata": {},
     "output_type": "execute_result"
    }
   ],
   "source": [
    "df.head(3)"
   ]
  },
  {
   "cell_type": "markdown",
   "metadata": {},
   "source": [
    "### Convert `Staging` to `wake (0)` and `sleep (1)` "
   ]
  },
  {
   "cell_type": "code",
   "execution_count": 4,
   "metadata": {
    "collapsed": true
   },
   "outputs": [],
   "source": [
    "df['Staging'] = df['Staging'].apply(lambda s: 0 if 'S0' in s else 1)"
   ]
  },
  {
   "cell_type": "markdown",
   "metadata": {},
   "source": [
    "### Forward-filling of any missing data"
   ]
  },
  {
   "cell_type": "code",
   "execution_count": 5,
   "metadata": {
    "collapsed": false
   },
   "outputs": [
    {
     "name": "stdout",
     "output_type": "stream",
     "text": [
      "<class 'pandas.core.frame.DataFrame'>\n",
      "DatetimeIndex: 19369 entries, 2015-09-09 20:47:01 to 2015-10-01 07:01:16\n",
      "Data columns (total 21 columns):\n",
      "Abdomen        19369 non-null float64\n",
      "Activity       19369 non-null float64\n",
      "Calf           19369 non-null float64\n",
      "Chest          19369 non-null float64\n",
      "Fingertip      19369 non-null float64\n",
      "Foot           19369 non-null float64\n",
      "Forearm        19369 non-null float64\n",
      "Forehead       19369 non-null float64\n",
      "HR_mean        19369 non-null float64\n",
      "HR_stdev       19369 non-null float64\n",
      "Hand           19369 non-null float64\n",
      "Patient_id     19369 non-null object\n",
      "ST_DPG         19369 non-null float64\n",
      "ST_Distal      19369 non-null float64\n",
      "ST_Proximal    19369 non-null float64\n",
      "Scapula        19369 non-null float64\n",
      "Staging        19369 non-null int64\n",
      "Toe            19369 non-null float64\n",
      "Upperarm       19369 non-null float64\n",
      "Upperleg       19369 non-null float64\n",
      "White Light    19369 non-null float64\n",
      "dtypes: float64(19), int64(1), object(1)\n",
      "memory usage: 3.3+ MB\n"
     ]
    }
   ],
   "source": [
    "df = df.ffill()\n",
    "df = df.bfill()\n",
    "df.info()"
   ]
  },
  {
   "cell_type": "code",
   "execution_count": 6,
   "metadata": {
    "collapsed": false
   },
   "outputs": [],
   "source": [
    "y = df.Staging.values\n",
    "X = df.copy()\n",
    "X.drop(['Staging','Patient_id'], axis=1, inplace=True)\n",
    "X = X.values"
   ]
  },
  {
   "cell_type": "code",
   "execution_count": 7,
   "metadata": {
    "collapsed": false
   },
   "outputs": [
    {
     "name": "stdout",
     "output_type": "stream",
     "text": [
      "(19369, 19) (19369,)\n"
     ]
    }
   ],
   "source": [
    "print(X.shape, y.shape)"
   ]
  },
  {
   "cell_type": "code",
   "execution_count": 8,
   "metadata": {
    "collapsed": false
   },
   "outputs": [
    {
     "name": "stdout",
     "output_type": "stream",
     "text": [
      "(15495,) (3874,)\n"
     ]
    }
   ],
   "source": [
    "X_train, X_test, y_train, y_test = train_test_split(X, y, test_size=0.2, random_state=7)\n",
    "print(y_train.shape, y_test.shape)"
   ]
  },
  {
   "cell_type": "markdown",
   "metadata": {},
   "source": [
    "## Train a svm classifier with feature scaling - dataset 1"
   ]
  },
  {
   "cell_type": "code",
   "execution_count": 11,
   "metadata": {
    "collapsed": false
   },
   "outputs": [
    {
     "data": {
      "text/plain": [
       "Pipeline(steps=[('scaler', StandardScaler(copy=True, with_mean=True, with_std=True)), ('svc', SVC(C=1.0, cache_size=2000, class_weight='balanced', coef0=0.0,\n",
       "  decision_function_shape=None, degree=3, gamma='auto', kernel='rbf',\n",
       "  max_iter=-1, probability=False, random_state=None, shrinking=True,\n",
       "  tol=0.001, verbose=False))])"
      ]
     },
     "execution_count": 11,
     "metadata": {},
     "output_type": "execute_result"
    }
   ],
   "source": [
    "pipeline.fit(X_train, y_train)"
   ]
  },
  {
   "cell_type": "code",
   "execution_count": 12,
   "metadata": {
    "collapsed": false
   },
   "outputs": [
    {
     "data": {
      "text/plain": [
       "0.9062278154243304"
      ]
     },
     "execution_count": 12,
     "metadata": {},
     "output_type": "execute_result"
    }
   ],
   "source": [
    "pipeline.score(X_train, y_train)"
   ]
  },
  {
   "cell_type": "code",
   "execution_count": 13,
   "metadata": {
    "collapsed": true
   },
   "outputs": [],
   "source": [
    "y_pred = pipeline.predict(X_test)"
   ]
  },
  {
   "cell_type": "code",
   "execution_count": 14,
   "metadata": {
    "collapsed": false
   },
   "outputs": [
    {
     "data": {
      "text/plain": [
       "0.8954568921011874"
      ]
     },
     "execution_count": 14,
     "metadata": {},
     "output_type": "execute_result"
    }
   ],
   "source": [
    "accuracy_score(y_test, y_pred)"
   ]
  },
  {
   "cell_type": "code",
   "execution_count": 15,
   "metadata": {
    "collapsed": false
   },
   "outputs": [
    {
     "name": "stdout",
     "output_type": "stream",
     "text": [
      "             precision    recall  f1-score   support\n",
      "\n",
      "          0       0.69      0.77      0.73       711\n",
      "          1       0.95      0.92      0.94      3163\n",
      "\n",
      "avg / total       0.90      0.90      0.90      3874\n",
      "\n"
     ]
    }
   ],
   "source": [
    "print(classification_report(y_test, y_pred))"
   ]
  },
  {
   "cell_type": "code",
   "execution_count": 16,
   "metadata": {
    "collapsed": false
   },
   "outputs": [
    {
     "name": "stdout",
     "output_type": "stream",
     "text": [
      "[[ 548  163]\n",
      " [ 242 2921]]\n"
     ]
    }
   ],
   "source": [
    "print(confusion_matrix(y_test, y_pred))"
   ]
  },
  {
   "cell_type": "markdown",
   "metadata": {},
   "source": [
    "## 10-fold cross validation"
   ]
  },
  {
   "cell_type": "markdown",
   "metadata": {},
   "source": [
    "### Define a function to perform kfold cross validation"
   ]
  },
  {
   "cell_type": "code",
   "execution_count": 42,
   "metadata": {
    "collapsed": true
   },
   "outputs": [],
   "source": [
    "def kfold_cv(clf, df, num_fold=10):\n",
    "    \"\"\"\n",
    "    Perform kfold cross-validation.\n",
    "    Args:\n",
    "        clf: classifier\n",
    "        df: dataframe containing all the required data\n",
    "        num_fold: kfold\n",
    "    Return:\n",
    "        a list of accuracy, precision, recall, f1 score for each cv\n",
    "    \"\"\"\n",
    "    acc_list, pr_weighted_list, rec_weighted_list, f1_weighted_list = [], [], [], []\n",
    "    TP, FP, TN, FN = [], [], [], []\n",
    "    \n",
    "    # remove any entry with unscored and covert to wake-sleep\n",
    "    if df['Staging'].dtype == 'object':\n",
    "        df = df[df['Staging'] != 'SLEEP-UNSCORED']\n",
    "        df['Staging'] = df['Staging'].apply(lambda s: 0 if 'S0' in s else 1)\n",
    "   \n",
    "    if not isinstance(clf, xgb.sklearn.XGBClassifier):\n",
    "        df = df.ffill()\n",
    "        df = df.bfill()\n",
    "        df.dropna(inplace=True)\n",
    "    \n",
    "    skf = model_selection.StratifiedKFold(num_fold, shuffle=True)        \n",
    "    X = df.drop(['Patient_id', 'Staging'], axis=1)\n",
    "    y = df['Staging']\n",
    "     \n",
    "    for train_ix, test_ix in skf.split(X, y):\n",
    "        \n",
    "        print(\"length of validation set:\", len(test_ix))\n",
    "#         print(df[df['Patient_id']!=sub_test]['Patient_id'].unique())\n",
    "        y_test = y.iloc[test_ix]\n",
    "        X_test = X.iloc[test_ix, :]\n",
    "        y_train = y.iloc[train_ix]\n",
    "        X_train = X.iloc[train_ix, :]\n",
    "\n",
    "        if not isinstance(clf, xgb.sklearn.XGBClassifier):\n",
    "            X_train = X_train.values \n",
    "            X_test = X_test.values\n",
    "            y_train = y_train.values\n",
    "            y_test = y_test.values\n",
    "            \n",
    "        # train the clf\n",
    "        clf.fit(X_train, y_train)\n",
    "        pred = clf.predict(X_test)\n",
    "\n",
    "        # compute scores\n",
    "        acc_list.append(accuracy_score(y_test, pred))\n",
    "        pr_weighted_list.append(precision_score(y_test, pred, average='weighted'))\n",
    "        rec_weighted_list.append(recall_score(y_test, pred, average='weighted'))\n",
    "        f1_weighted_list.append(f1_score(y_test, pred, average='weighted'))\n",
    "\n",
    "        cm = confusion_matrix(y_test, pred)\n",
    "        TP.append(cm[1, 1])\n",
    "        FP.append(cm[0, 1])\n",
    "        TN.append(cm[0, 0])\n",
    "        FN.append(cm[1, 0])\n",
    "        \n",
    "    cv_scores = pd.DataFrame({'Fold':[i for i in range(1, num_fold+1)], 'Accuracy':acc_list, \n",
    "                              'Precision_weighted': pr_weighted_list,\n",
    "                              'Recall_weighted': rec_weighted_list, 'F1_weighted': f1_weighted_list,\n",
    "                              'TP': TP, 'FP': FP, 'FN': FN, 'TN':TN})\n",
    "    return cv_scores\n",
    "            \n",
    "#     return subjects, acc_list, prf_list1, prf_list2,cm"
   ]
  },
  {
   "cell_type": "markdown",
   "metadata": {},
   "source": [
    "### Build the SVM classifier with optimal parameters - 10 fold CV"
   ]
  },
  {
   "cell_type": "code",
   "execution_count": 69,
   "metadata": {
    "collapsed": false
   },
   "outputs": [],
   "source": [
    "pp_list = []\n",
    "scaler = StandardScaler()\n",
    "pp_list.append(('scaler', scaler))\n",
    "svc = SVC(cache_size=2000, class_weight='balanced', kernel='rbf', C=1, gamma='auto')\n",
    "pp_list.append(('svc', svc))\n",
    "svc_clf = Pipeline(pp_list)"
   ]
  },
  {
   "cell_type": "code",
   "execution_count": 43,
   "metadata": {
    "collapsed": false
   },
   "outputs": [
    {
     "name": "stdout",
     "output_type": "stream",
     "text": [
      "length of validation set: 1938\n",
      "length of validation set: 1938\n",
      "length of validation set: 1938\n",
      "length of validation set: 1937\n",
      "length of validation set: 1937\n",
      "length of validation set: 1937\n",
      "length of validation set: 1936\n",
      "length of validation set: 1936\n",
      "length of validation set: 1936\n",
      "length of validation set: 1936\n"
     ]
    }
   ],
   "source": [
    "# svc_clf = svc_gs.best_estimator_\n",
    "kfold_scores = kfold_cv(svc_clf, df, num_fold=10)"
   ]
  },
  {
   "cell_type": "code",
   "execution_count": 5,
   "metadata": {
    "collapsed": false
   },
   "outputs": [
    {
     "data": {
      "text/html": [
       "<div>\n",
       "<table border=\"1\" class=\"dataframe\">\n",
       "  <thead>\n",
       "    <tr style=\"text-align: right;\">\n",
       "      <th></th>\n",
       "      <th>Accuracy</th>\n",
       "      <th>F1_weighted</th>\n",
       "      <th>FN</th>\n",
       "      <th>FP</th>\n",
       "      <th>Fold</th>\n",
       "      <th>Precision_weighted</th>\n",
       "      <th>Recall_weighted</th>\n",
       "      <th>TN</th>\n",
       "      <th>TP</th>\n",
       "    </tr>\n",
       "  </thead>\n",
       "  <tbody>\n",
       "    <tr>\n",
       "      <th>0</th>\n",
       "      <td>0.909701</td>\n",
       "      <td>0.900979</td>\n",
       "      <td>17</td>\n",
       "      <td>158</td>\n",
       "      <td>1</td>\n",
       "      <td>0.910998</td>\n",
       "      <td>0.909701</td>\n",
       "      <td>211</td>\n",
       "      <td>1552</td>\n",
       "    </tr>\n",
       "    <tr>\n",
       "      <th>1</th>\n",
       "      <td>0.911249</td>\n",
       "      <td>0.903826</td>\n",
       "      <td>23</td>\n",
       "      <td>149</td>\n",
       "      <td>2</td>\n",
       "      <td>0.910810</td>\n",
       "      <td>0.911249</td>\n",
       "      <td>220</td>\n",
       "      <td>1546</td>\n",
       "    </tr>\n",
       "    <tr>\n",
       "      <th>2</th>\n",
       "      <td>0.908669</td>\n",
       "      <td>0.900169</td>\n",
       "      <td>20</td>\n",
       "      <td>157</td>\n",
       "      <td>3</td>\n",
       "      <td>0.909080</td>\n",
       "      <td>0.908669</td>\n",
       "      <td>212</td>\n",
       "      <td>1549</td>\n",
       "    </tr>\n",
       "    <tr>\n",
       "      <th>3</th>\n",
       "      <td>0.909654</td>\n",
       "      <td>0.901561</td>\n",
       "      <td>21</td>\n",
       "      <td>154</td>\n",
       "      <td>4</td>\n",
       "      <td>0.909761</td>\n",
       "      <td>0.909654</td>\n",
       "      <td>215</td>\n",
       "      <td>1547</td>\n",
       "    </tr>\n",
       "    <tr>\n",
       "      <th>4</th>\n",
       "      <td>0.903459</td>\n",
       "      <td>0.893259</td>\n",
       "      <td>18</td>\n",
       "      <td>169</td>\n",
       "      <td>5</td>\n",
       "      <td>0.904686</td>\n",
       "      <td>0.903459</td>\n",
       "      <td>200</td>\n",
       "      <td>1550</td>\n",
       "    </tr>\n",
       "    <tr>\n",
       "      <th>5</th>\n",
       "      <td>0.909654</td>\n",
       "      <td>0.900276</td>\n",
       "      <td>13</td>\n",
       "      <td>162</td>\n",
       "      <td>6</td>\n",
       "      <td>0.912366</td>\n",
       "      <td>0.909654</td>\n",
       "      <td>207</td>\n",
       "      <td>1555</td>\n",
       "    </tr>\n",
       "    <tr>\n",
       "      <th>6</th>\n",
       "      <td>0.909607</td>\n",
       "      <td>0.901321</td>\n",
       "      <td>20</td>\n",
       "      <td>155</td>\n",
       "      <td>7</td>\n",
       "      <td>0.909969</td>\n",
       "      <td>0.909607</td>\n",
       "      <td>213</td>\n",
       "      <td>1548</td>\n",
       "    </tr>\n",
       "    <tr>\n",
       "      <th>7</th>\n",
       "      <td>0.913223</td>\n",
       "      <td>0.906082</td>\n",
       "      <td>22</td>\n",
       "      <td>146</td>\n",
       "      <td>8</td>\n",
       "      <td>0.912975</td>\n",
       "      <td>0.913223</td>\n",
       "      <td>222</td>\n",
       "      <td>1546</td>\n",
       "    </tr>\n",
       "    <tr>\n",
       "      <th>8</th>\n",
       "      <td>0.907541</td>\n",
       "      <td>0.899065</td>\n",
       "      <td>22</td>\n",
       "      <td>157</td>\n",
       "      <td>9</td>\n",
       "      <td>0.907386</td>\n",
       "      <td>0.907541</td>\n",
       "      <td>211</td>\n",
       "      <td>1546</td>\n",
       "    </tr>\n",
       "    <tr>\n",
       "      <th>9</th>\n",
       "      <td>0.911157</td>\n",
       "      <td>0.903846</td>\n",
       "      <td>24</td>\n",
       "      <td>148</td>\n",
       "      <td>10</td>\n",
       "      <td>0.910460</td>\n",
       "      <td>0.911157</td>\n",
       "      <td>220</td>\n",
       "      <td>1544</td>\n",
       "    </tr>\n",
       "  </tbody>\n",
       "</table>\n",
       "</div>"
      ],
      "text/plain": [
       "   Accuracy  F1_weighted  FN   FP  Fold  Precision_weighted  Recall_weighted  \\\n",
       "0  0.909701     0.900979  17  158     1            0.910998         0.909701   \n",
       "1  0.911249     0.903826  23  149     2            0.910810         0.911249   \n",
       "2  0.908669     0.900169  20  157     3            0.909080         0.908669   \n",
       "3  0.909654     0.901561  21  154     4            0.909761         0.909654   \n",
       "4  0.903459     0.893259  18  169     5            0.904686         0.903459   \n",
       "5  0.909654     0.900276  13  162     6            0.912366         0.909654   \n",
       "6  0.909607     0.901321  20  155     7            0.909969         0.909607   \n",
       "7  0.913223     0.906082  22  146     8            0.912975         0.913223   \n",
       "8  0.907541     0.899065  22  157     9            0.907386         0.907541   \n",
       "9  0.911157     0.903846  24  148    10            0.910460         0.911157   \n",
       "\n",
       "    TN    TP  \n",
       "0  211  1552  \n",
       "1  220  1546  \n",
       "2  212  1549  \n",
       "3  215  1547  \n",
       "4  200  1550  \n",
       "5  207  1555  \n",
       "6  213  1548  \n",
       "7  222  1546  \n",
       "8  211  1546  \n",
       "9  220  1544  "
      ]
     },
     "execution_count": 5,
     "metadata": {},
     "output_type": "execute_result"
    }
   ],
   "source": [
    "# kfold_scores = pd.read_csv(\"./svc_10fold_cv_scores_20subjects.csv\", index_col=0)\n",
    "kfold_scores"
   ]
  },
  {
   "cell_type": "code",
   "execution_count": 6,
   "metadata": {
    "collapsed": false
   },
   "outputs": [
    {
     "data": {
      "image/png": "[encoded data removed]",
      "text/plain": [
       "<matplotlib.figure.Figure at 0x7f1fbc1f1358>"
      ]
     },
     "metadata": {},
     "output_type": "display_data"
    }
   ],
   "source": [
    "plt.plot(kfold_scores['Fold'], kfold_scores['Accuracy'], '-o')\n",
    "plt.plot(kfold_scores['Fold'], kfold_scores['F1_weighted'], '-o')\n",
    "# plt.plot(kfold_scores['Fold'], kfold_scores['Recall_weighted'], '-o')\n",
    "plt.xlim(0, kfold_scores.shape[0]+1)\n",
    "plt.ylim(0.83, 0.93)\n",
    "plt.legend(loc=0)\n",
    "# kfold_scores.plot.scatter(x=kfold_scores.index, y='Accuarcy')\n",
    "plt.show()"
   ]
  },
  {
   "cell_type": "code",
   "execution_count": 7,
   "metadata": {
    "collapsed": false
   },
   "outputs": [
    {
     "name": "stdout",
     "output_type": "stream",
     "text": [
      "0.909391295369 0.946364719905\n"
     ]
    }
   ],
   "source": [
    "importlib.reload(generic_func)\n",
    "avg_acc, avg_pr, avg_re, avg_f1 = generic_func.avg_cv_scores(kfold_scores)\n",
    "print(avg_acc, avg_f1)"
   ]
  },
  {
   "cell_type": "markdown",
   "metadata": {},
   "source": [
    "# SVM classifier for subjects without Actigraphy data - dataset 2 with 59 subjects"
   ]
  },
  {
   "cell_type": "code",
   "execution_count": 47,
   "metadata": {
    "collapsed": false
   },
   "outputs": [
    {
     "name": "stdout",
     "output_type": "stream",
     "text": [
      "<class 'pandas.core.frame.DataFrame'>\n",
      "DatetimeIndex: 56174 entries, 2015-09-02 22:49:52 to 2015-10-01 07:01:16\n",
      "Data columns (total 19 columns):\n",
      "Abdomen        56142 non-null float64\n",
      "Calf           54484 non-null float64\n",
      "Chest          56157 non-null float64\n",
      "Fingertip      55253 non-null float64\n",
      "Foot           56132 non-null float64\n",
      "Forearm        55457 non-null float64\n",
      "Forehead       55382 non-null float64\n",
      "HR_mean        53119 non-null float64\n",
      "HR_stdev       53081 non-null float64\n",
      "Hand           53307 non-null float64\n",
      "Patient_id     56174 non-null object\n",
      "ST_DPG         56148 non-null float64\n",
      "ST_Distal      56148 non-null float64\n",
      "ST_Proximal    56157 non-null float64\n",
      "Scapula        55310 non-null float64\n",
      "Staging        56174 non-null object\n",
      "Toe            53836 non-null float64\n",
      "Upperarm       54214 non-null float64\n",
      "Upperleg       53331 non-null float64\n",
      "dtypes: float64(17), object(2)\n",
      "memory usage: 8.6+ MB\n"
     ]
    }
   ],
   "source": [
    "df2 = pd.read_csv(\"./Input/ins_subjects_no_act_161016.csv\", index_col=0, parse_dates=True)\n",
    "df2.info()"
   ]
  },
  {
   "cell_type": "markdown",
   "metadata": {},
   "source": [
    "### Convert `Staging` to `wake (0)` and `sleep (1)` "
   ]
  },
  {
   "cell_type": "code",
   "execution_count": 48,
   "metadata": {
    "collapsed": false
   },
   "outputs": [],
   "source": [
    "df2 = df2[df2['Staging']!='SLEEP-UNSCORED']"
   ]
  },
  {
   "cell_type": "code",
   "execution_count": 49,
   "metadata": {
    "collapsed": false
   },
   "outputs": [
    {
     "name": "stdout",
     "output_type": "stream",
     "text": [
      "<class 'pandas.core.frame.DataFrame'>\n",
      "DatetimeIndex: 55913 entries, 2015-09-02 22:49:52 to 2015-10-01 07:01:16\n",
      "Data columns (total 19 columns):\n",
      "Abdomen        55881 non-null float64\n",
      "Calf           54281 non-null float64\n",
      "Chest          55896 non-null float64\n",
      "Fingertip      55165 non-null float64\n",
      "Foot           55871 non-null float64\n",
      "Forearm        55196 non-null float64\n",
      "Forehead       55121 non-null float64\n",
      "HR_mean        53110 non-null float64\n",
      "HR_stdev       53072 non-null float64\n",
      "Hand           53076 non-null float64\n",
      "Patient_id     55913 non-null object\n",
      "ST_DPG         55887 non-null float64\n",
      "ST_Distal      55887 non-null float64\n",
      "ST_Proximal    55896 non-null float64\n",
      "Scapula        55049 non-null float64\n",
      "Staging        55913 non-null int64\n",
      "Toe            53605 non-null float64\n",
      "Upperarm       53953 non-null float64\n",
      "Upperleg       53070 non-null float64\n",
      "dtypes: float64(17), int64(1), object(1)\n",
      "memory usage: 8.5+ MB\n"
     ]
    }
   ],
   "source": [
    "df2['Staging'] = df2['Staging'].apply(lambda s: 0 if 'S0' in s else 1)\n",
    "df2.info()"
   ]
  },
  {
   "cell_type": "markdown",
   "metadata": {},
   "source": [
    "### Forward-filling "
   ]
  },
  {
   "cell_type": "code",
   "execution_count": 50,
   "metadata": {
    "collapsed": false
   },
   "outputs": [
    {
     "name": "stdout",
     "output_type": "stream",
     "text": [
      "<class 'pandas.core.frame.DataFrame'>\n",
      "DatetimeIndex: 55913 entries, 2015-09-02 22:49:52 to 2015-10-01 07:01:16\n",
      "Data columns (total 19 columns):\n",
      "Abdomen        55913 non-null float64\n",
      "Calf           55913 non-null float64\n",
      "Chest          55913 non-null float64\n",
      "Fingertip      55913 non-null float64\n",
      "Foot           55913 non-null float64\n",
      "Forearm        55913 non-null float64\n",
      "Forehead       55913 non-null float64\n",
      "HR_mean        55913 non-null float64\n",
      "HR_stdev       55913 non-null float64\n",
      "Hand           55913 non-null float64\n",
      "Patient_id     55913 non-null object\n",
      "ST_DPG         55913 non-null float64\n",
      "ST_Distal      55913 non-null float64\n",
      "ST_Proximal    55913 non-null float64\n",
      "Scapula        55913 non-null float64\n",
      "Staging        55913 non-null int64\n",
      "Toe            55913 non-null float64\n",
      "Upperarm       55913 non-null float64\n",
      "Upperleg       55913 non-null float64\n",
      "dtypes: float64(17), int64(1), object(1)\n",
      "memory usage: 8.5+ MB\n"
     ]
    }
   ],
   "source": [
    "df2 = df2.ffill()\n",
    "df2 = df2.bfill()\n",
    "df2.info()"
   ]
  },
  {
   "cell_type": "code",
   "execution_count": 51,
   "metadata": {
    "collapsed": false
   },
   "outputs": [],
   "source": [
    "y = df2.Staging.values\n",
    "X = df2.copy()\n",
    "X.drop(['Staging','Patient_id'], axis=1, inplace=True)\n",
    "X = X.values"
   ]
  },
  {
   "cell_type": "code",
   "execution_count": 52,
   "metadata": {
    "collapsed": false
   },
   "outputs": [
    {
     "name": "stdout",
     "output_type": "stream",
     "text": [
      "(55913, 17) (55913,)\n"
     ]
    }
   ],
   "source": [
    "print(X.shape, y.shape)"
   ]
  },
  {
   "cell_type": "code",
   "execution_count": 53,
   "metadata": {
    "collapsed": false
   },
   "outputs": [
    {
     "name": "stdout",
     "output_type": "stream",
     "text": [
      "(44730,) (11183,)\n"
     ]
    }
   ],
   "source": [
    "X_train, X_test, y_train, y_test = train_test_split(X, y, test_size=0.2, random_state=7)\n",
    "print(y_train.shape, y_test.shape)"
   ]
  },
  {
   "cell_type": "code",
   "execution_count": 54,
   "metadata": {
    "collapsed": false
   },
   "outputs": [
    {
     "data": {
      "text/plain": [
       "Pipeline(steps=[('scaler', StandardScaler(copy=True, with_mean=True, with_std=True)), ('svc', SVC(C=100, cache_size=2000, class_weight='balanced', coef0=0.0,\n",
       "  decision_function_shape=None, degree=3, gamma='auto', kernel='rbf',\n",
       "  max_iter=-1, probability=False, random_state=None, shrinking=True,\n",
       "  tol=0.001, verbose=False))])"
      ]
     },
     "execution_count": 54,
     "metadata": {},
     "output_type": "execute_result"
    }
   ],
   "source": [
    "pipeline2 = Pipeline(pp_list)\n",
    "# pipeline2 = svc_gs.best_estimator_\n",
    "pipeline2.fit(X_train, y_train)"
   ]
  },
  {
   "cell_type": "code",
   "execution_count": 55,
   "metadata": {
    "collapsed": false
   },
   "outputs": [
    {
     "data": {
      "text/plain": [
       "0.91381623071763918"
      ]
     },
     "execution_count": 55,
     "metadata": {},
     "output_type": "execute_result"
    }
   ],
   "source": [
    "pipeline2.score(X_train, y_train)"
   ]
  },
  {
   "cell_type": "code",
   "execution_count": 56,
   "metadata": {
    "collapsed": true
   },
   "outputs": [],
   "source": [
    "y_pred = pipeline2.predict(X_test)"
   ]
  },
  {
   "cell_type": "code",
   "execution_count": 57,
   "metadata": {
    "collapsed": false
   },
   "outputs": [
    {
     "data": {
      "text/plain": [
       "0.89135294643655549"
      ]
     },
     "execution_count": 57,
     "metadata": {},
     "output_type": "execute_result"
    }
   ],
   "source": [
    "accuracy_score(y_test, y_pred)"
   ]
  },
  {
   "cell_type": "code",
   "execution_count": 58,
   "metadata": {
    "collapsed": false
   },
   "outputs": [
    {
     "name": "stdout",
     "output_type": "stream",
     "text": [
      "             precision    recall  f1-score   support\n",
      "\n",
      "          0       0.76      0.83      0.80      2851\n",
      "          1       0.94      0.91      0.93      8332\n",
      "\n",
      "avg / total       0.90      0.89      0.89     11183\n",
      "\n"
     ]
    }
   ],
   "source": [
    "print(classification_report(y_test, y_pred))"
   ]
  },
  {
   "cell_type": "code",
   "execution_count": 59,
   "metadata": {
    "collapsed": false
   },
   "outputs": [
    {
     "name": "stdout",
     "output_type": "stream",
     "text": [
      "[[2373  478]\n",
      " [ 737 7595]]\n"
     ]
    }
   ],
   "source": [
    "print(confusion_matrix(y_test, y_pred))"
   ]
  },
  {
   "cell_type": "code",
   "execution_count": 119,
   "metadata": {
    "collapsed": true
   },
   "outputs": [],
   "source": [
    "y_pred_prob = pipeline2.predict_proba(X_test)"
   ]
  },
  {
   "cell_type": "markdown",
   "metadata": {},
   "source": [
    "## 10-fold cross validation"
   ]
  },
  {
   "cell_type": "code",
   "execution_count": 44,
   "metadata": {
    "collapsed": false
   },
   "outputs": [
    {
     "name": "stdout",
     "output_type": "stream",
     "text": [
      "length of validation set: 5619\n",
      "length of validation set: 5619\n",
      "length of validation set: 5617\n",
      "length of validation set: 5617\n",
      "length of validation set: 5617\n",
      "length of validation set: 5617\n",
      "length of validation set: 5617\n",
      "length of validation set: 5617\n",
      "length of validation set: 5617\n",
      "length of validation set: 5617\n"
     ]
    }
   ],
   "source": [
    "# svc_clf = Pipeline(pp_list)\n",
    "# svc_clf = svc_gs.best_estimator_\n",
    "kfold_scores2 = kfold_cv(svc_clf, df2, num_fold=10)"
   ]
  },
  {
   "cell_type": "code",
   "execution_count": 45,
   "metadata": {
    "collapsed": false
   },
   "outputs": [
    {
     "data": {
      "text/html": [
       "<div>\n",
       "<table border=\"1\" class=\"dataframe\">\n",
       "  <thead>\n",
       "    <tr style=\"text-align: right;\">\n",
       "      <th></th>\n",
       "      <th>Accuracy</th>\n",
       "      <th>F1_weighted</th>\n",
       "      <th>FN</th>\n",
       "      <th>FP</th>\n",
       "      <th>Fold</th>\n",
       "      <th>Precision_weighted</th>\n",
       "      <th>Recall_weighted</th>\n",
       "      <th>TN</th>\n",
       "      <th>TP</th>\n",
       "    </tr>\n",
       "  </thead>\n",
       "  <tbody>\n",
       "    <tr>\n",
       "      <th>0</th>\n",
       "      <td>0.849795</td>\n",
       "      <td>0.833921</td>\n",
       "      <td>102</td>\n",
       "      <td>742</td>\n",
       "      <td>1</td>\n",
       "      <td>0.853069</td>\n",
       "      <td>0.849795</td>\n",
       "      <td>710</td>\n",
       "      <td>4065</td>\n",
       "    </tr>\n",
       "    <tr>\n",
       "      <th>1</th>\n",
       "      <td>0.853355</td>\n",
       "      <td>0.838989</td>\n",
       "      <td>109</td>\n",
       "      <td>715</td>\n",
       "      <td>2</td>\n",
       "      <td>0.855615</td>\n",
       "      <td>0.853355</td>\n",
       "      <td>737</td>\n",
       "      <td>4058</td>\n",
       "    </tr>\n",
       "    <tr>\n",
       "      <th>2</th>\n",
       "      <td>0.852946</td>\n",
       "      <td>0.837320</td>\n",
       "      <td>92</td>\n",
       "      <td>734</td>\n",
       "      <td>3</td>\n",
       "      <td>0.857397</td>\n",
       "      <td>0.852946</td>\n",
       "      <td>717</td>\n",
       "      <td>4074</td>\n",
       "    </tr>\n",
       "    <tr>\n",
       "      <th>3</th>\n",
       "      <td>0.850810</td>\n",
       "      <td>0.834956</td>\n",
       "      <td>98</td>\n",
       "      <td>740</td>\n",
       "      <td>4</td>\n",
       "      <td>0.854556</td>\n",
       "      <td>0.850810</td>\n",
       "      <td>711</td>\n",
       "      <td>4068</td>\n",
       "    </tr>\n",
       "    <tr>\n",
       "      <th>4</th>\n",
       "      <td>0.853659</td>\n",
       "      <td>0.838039</td>\n",
       "      <td>89</td>\n",
       "      <td>733</td>\n",
       "      <td>5</td>\n",
       "      <td>0.858486</td>\n",
       "      <td>0.853659</td>\n",
       "      <td>718</td>\n",
       "      <td>4077</td>\n",
       "    </tr>\n",
       "    <tr>\n",
       "      <th>5</th>\n",
       "      <td>0.854015</td>\n",
       "      <td>0.838433</td>\n",
       "      <td>88</td>\n",
       "      <td>732</td>\n",
       "      <td>6</td>\n",
       "      <td>0.858960</td>\n",
       "      <td>0.854015</td>\n",
       "      <td>719</td>\n",
       "      <td>4078</td>\n",
       "    </tr>\n",
       "    <tr>\n",
       "      <th>6</th>\n",
       "      <td>0.849564</td>\n",
       "      <td>0.833821</td>\n",
       "      <td>105</td>\n",
       "      <td>740</td>\n",
       "      <td>7</td>\n",
       "      <td>0.852442</td>\n",
       "      <td>0.849564</td>\n",
       "      <td>711</td>\n",
       "      <td>4061</td>\n",
       "    </tr>\n",
       "    <tr>\n",
       "      <th>7</th>\n",
       "      <td>0.858999</td>\n",
       "      <td>0.844982</td>\n",
       "      <td>90</td>\n",
       "      <td>702</td>\n",
       "      <td>8</td>\n",
       "      <td>0.863320</td>\n",
       "      <td>0.858999</td>\n",
       "      <td>749</td>\n",
       "      <td>4076</td>\n",
       "    </tr>\n",
       "    <tr>\n",
       "      <th>8</th>\n",
       "      <td>0.856863</td>\n",
       "      <td>0.842569</td>\n",
       "      <td>95</td>\n",
       "      <td>709</td>\n",
       "      <td>9</td>\n",
       "      <td>0.860670</td>\n",
       "      <td>0.856863</td>\n",
       "      <td>742</td>\n",
       "      <td>4071</td>\n",
       "    </tr>\n",
       "    <tr>\n",
       "      <th>9</th>\n",
       "      <td>0.850988</td>\n",
       "      <td>0.834770</td>\n",
       "      <td>92</td>\n",
       "      <td>745</td>\n",
       "      <td>10</td>\n",
       "      <td>0.855558</td>\n",
       "      <td>0.850988</td>\n",
       "      <td>706</td>\n",
       "      <td>4074</td>\n",
       "    </tr>\n",
       "  </tbody>\n",
       "</table>\n",
       "</div>"
      ],
      "text/plain": [
       "   Accuracy  F1_weighted   FN   FP  Fold  Precision_weighted  Recall_weighted  \\\n",
       "0  0.849795     0.833921  102  742     1            0.853069         0.849795   \n",
       "1  0.853355     0.838989  109  715     2            0.855615         0.853355   \n",
       "2  0.852946     0.837320   92  734     3            0.857397         0.852946   \n",
       "3  0.850810     0.834956   98  740     4            0.854556         0.850810   \n",
       "4  0.853659     0.838039   89  733     5            0.858486         0.853659   \n",
       "5  0.854015     0.838433   88  732     6            0.858960         0.854015   \n",
       "6  0.849564     0.833821  105  740     7            0.852442         0.849564   \n",
       "7  0.858999     0.844982   90  702     8            0.863320         0.858999   \n",
       "8  0.856863     0.842569   95  709     9            0.860670         0.856863   \n",
       "9  0.850988     0.834770   92  745    10            0.855558         0.850988   \n",
       "\n",
       "    TN    TP  \n",
       "0  710  4065  \n",
       "1  737  4058  \n",
       "2  717  4074  \n",
       "3  711  4068  \n",
       "4  718  4077  \n",
       "5  719  4078  \n",
       "6  711  4061  \n",
       "7  749  4076  \n",
       "8  742  4071  \n",
       "9  706  4074  "
      ]
     },
     "execution_count": 45,
     "metadata": {},
     "output_type": "execute_result"
    }
   ],
   "source": [
    "kfold_scores2\n",
    "# kfold_scores.to_csv(\"./svc_10fold_cv_scores_20subjects.csv\")"
   ]
  },
  {
   "cell_type": "code",
   "execution_count": 135,
   "metadata": {
    "collapsed": false
   },
   "outputs": [
    {
     "data": {
      "image/png": "[encoded data removed]",
      "text/plain": [
       "<matplotlib.figure.Figure at 0x7f6a38583550>"
      ]
     },
     "metadata": {},
     "output_type": "display_data"
    }
   ],
   "source": [
    "plt.plot(kfold_scores2['Fold'], kfold_scores2['Accuracy'], '-o')\n",
    "plt.plot(kfold_scores2['Fold'], kfold_scores2['F1_weighted'], '-o')\n",
    "# plt.plot(kfold_scores['Fold'], kfold_scores['Recall_weighted'], '-o')\n",
    "plt.xlim(0, kfold_scores2.shape[0]+1)\n",
    "plt.ylim(0.83,0.92)\n",
    "plt.legend(loc=0)\n",
    "# kfold_scores.plot.scatter(x=kfold_scores.index, y='Accuarcy')\n",
    "plt.show()"
   ]
  }
 ],
 "metadata": {
  "anaconda-cloud": {},
  "kernelspec": {
   "display_name": "Python [default]",
   "language": "python",
   "name": "python3"
  },
  "language_info": {
   "codemirror_mode": {
    "name": "ipython",
    "version": 3
   },
   "file_extension": ".py",
   "mimetype": "text/x-python",
   "name": "python",
   "nbconvert_exporter": "python",
   "pygments_lexer": "ipython3",
   "version": "3.5.2"
  }
 },
 "nbformat": 4,
 "nbformat_minor": 1
}
