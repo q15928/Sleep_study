{
 "cells": [
  {
   "cell_type": "markdown",
   "metadata": {},
   "source": [
    "# XGBoost for sleep staging classification\n",
    "We train an XGBoost model to automatically classify sleep staging for the two datasets.\n",
    "\n",
    "Tree-based models can handle missing data nicely with the internal algorithms. They are also not affected by the variance of the features.\n",
    "\n",
    "XGBoost has gained its reputation among machine learning competitions because of its speed and performance.\n",
    "\n",
    "### Evaluation\n",
    "We use 10-fold cross-validation for evalation of classifer's performance. Because of the imbalanced datasets, it is important to maintain the proportion of the class distribution for each fold. Scikit-learn provides a nice function called [StratifiedKFold](http://scikit-learn.org/stable/modules/generated/sklearn.model_selection.StratifiedKFold.html) to implement this.\n",
    "\n",
    "We use the performance metrics such as accuracy, precision, recall and F1-score\n",
    "\n",
    "### Feature importance\n",
    "One of benefits from XGBoost is that it can provide feature importance from the trained model. It is based on how frequent the feature is used to build the trees. The higher the more important. "
   ]
  },
  {
   "cell_type": "code",
   "execution_count": 1,
   "metadata": {
    "collapsed": false
   },
   "outputs": [
    {
     "name": "stderr",
     "output_type": "stream",
     "text": [
      "/home/qfen8290/miniconda3/lib/python3.5/site-packages/sklearn/cross_validation.py:44: DeprecationWarning: This module was deprecated in version 0.18 in favor of the model_selection module into which all the refactored classes and functions are moved. Also note that the interface of the new CV iterators are different from that of this module. This module will be removed in 0.20.\n",
      "  \"This module will be removed in 0.20.\", DeprecationWarning)\n"
     ]
    }
   ],
   "source": [
    "import numpy as np\n",
    "import pandas as pd\n",
    "import xgboost as xgb\n",
    "from xgboost import XGBClassifier\n",
    "from sklearn.model_selection import cross_val_score, StratifiedKFold, train_test_split, GridSearchCV\n",
    "from sklearn.metrics import accuracy_score, precision_recall_fscore_support,classification_report, confusion_matrix\n",
    "from sklearn.metrics import precision_score, recall_score, f1_score, log_loss\n",
    "# from sklearn.grid_search import GridSearchCV\n",
    "from sklearn import model_selection\n",
    "from sklearn.preprocessing import StandardScaler\n",
    "from sklearn.svm import SVC\n",
    "from sklearn.pipeline import Pipeline\n",
    "from sklearn.ensemble import BaggingClassifier\n",
    "import matplotlib.pyplot as plt\n",
    "import seaborn as sns\n",
    "import pickle\n",
    "import matplotlib\n",
    "\n",
    "\n",
    "%matplotlib inline\n",
    "matplotlib.style.use('ggplot')\n",
    "pd.set_option('display.max_rows', 20)\n",
    "matplotlib.rcParams['figure.figsize'] = (8, 6)"
   ]
  },
  {
   "cell_type": "markdown",
   "metadata": {},
   "source": [
    "# XGBoost classifier for subjects with Actigraphy data - dataset 1 with 20 subjects"
   ]
  },
  {
   "cell_type": "markdown",
   "metadata": {},
   "source": [
    "## Load data"
   ]
  },
  {
   "cell_type": "code",
   "execution_count": 2,
   "metadata": {
    "collapsed": true
   },
   "outputs": [],
   "source": [
    "# df = pd.read_csv(\"./Input//svm_data_clean_160926.csv\")\n",
    "df = pd.read_csv(\"./Input/ins_subjects_161014.csv\", index_col=0, parse_dates=True)"
   ]
  },
  {
   "cell_type": "code",
   "execution_count": 3,
   "metadata": {
    "collapsed": true
   },
   "outputs": [
    {
     "name": "stdout",
     "output_type": "stream",
     "text": [
      "<class 'pandas.core.frame.DataFrame'>\n",
      "DatetimeIndex: 19369 entries, 2015-09-09 20:47:01 to 2015-10-01 07:01:16\n",
      "Data columns (total 21 columns):\n",
      "Abdomen        19346 non-null float64\n",
      "Activity       19365 non-null float64\n",
      "Calf           18541 non-null float64\n",
      "Chest          19361 non-null float64\n",
      "Fingertip      19348 non-null float64\n",
      "Foot           19336 non-null float64\n",
      "Forearm        19356 non-null float64\n",
      "Forehead       19361 non-null float64\n",
      "HR_mean        17791 non-null float64\n",
      "HR_stdev       17773 non-null float64\n",
      "Hand           18303 non-null float64\n",
      "Patient_id     19369 non-null object\n",
      "ST_DPG         19352 non-null float64\n",
      "ST_Distal      19352 non-null float64\n",
      "ST_Proximal    19361 non-null float64\n",
      "Scapula        19354 non-null float64\n",
      "Staging        19369 non-null object\n",
      "Toe            17933 non-null float64\n",
      "Upperarm       19361 non-null float64\n",
      "Upperleg       19342 non-null float64\n",
      "White Light    19365 non-null float64\n",
      "dtypes: float64(19), object(2)\n",
      "memory usage: 3.3+ MB\n"
     ]
    },
    {
     "data": {
      "text/html": [
       "<div>\n",
       "<table border=\"1\" class=\"dataframe\">\n",
       "  <thead>\n",
       "    <tr style=\"text-align: right;\">\n",
       "      <th></th>\n",
       "      <th>Abdomen</th>\n",
       "      <th>Activity</th>\n",
       "      <th>Calf</th>\n",
       "      <th>Chest</th>\n",
       "      <th>Fingertip</th>\n",
       "      <th>Foot</th>\n",
       "      <th>Forearm</th>\n",
       "      <th>Forehead</th>\n",
       "      <th>HR_mean</th>\n",
       "      <th>HR_stdev</th>\n",
       "      <th>...</th>\n",
       "      <th>Patient_id</th>\n",
       "      <th>ST_DPG</th>\n",
       "      <th>ST_Distal</th>\n",
       "      <th>ST_Proximal</th>\n",
       "      <th>Scapula</th>\n",
       "      <th>Staging</th>\n",
       "      <th>Toe</th>\n",
       "      <th>Upperarm</th>\n",
       "      <th>Upperleg</th>\n",
       "      <th>White Light</th>\n",
       "    </tr>\n",
       "  </thead>\n",
       "  <tbody>\n",
       "    <tr>\n",
       "      <th>2015-09-09 20:47:01</th>\n",
       "      <td>33.8525</td>\n",
       "      <td>6.0</td>\n",
       "      <td>32.54225</td>\n",
       "      <td>32.87400</td>\n",
       "      <td>31.93225</td>\n",
       "      <td>34.49425</td>\n",
       "      <td>32.4790</td>\n",
       "      <td>34.5505</td>\n",
       "      <td>0.763625</td>\n",
       "      <td>0.083970</td>\n",
       "      <td>...</td>\n",
       "      <td>INS_WI_004</td>\n",
       "      <td>-0.086375</td>\n",
       "      <td>32.757625</td>\n",
       "      <td>32.671250</td>\n",
       "      <td>33.2430</td>\n",
       "      <td>SLEEP-S0</td>\n",
       "      <td>32.1250</td>\n",
       "      <td>32.4985</td>\n",
       "      <td>31.46000</td>\n",
       "      <td>5.30</td>\n",
       "    </tr>\n",
       "    <tr>\n",
       "      <th>2015-09-09 20:47:31</th>\n",
       "      <td>33.8525</td>\n",
       "      <td>27.0</td>\n",
       "      <td>32.54225</td>\n",
       "      <td>32.87400</td>\n",
       "      <td>31.93225</td>\n",
       "      <td>34.49425</td>\n",
       "      <td>32.4790</td>\n",
       "      <td>34.5505</td>\n",
       "      <td>0.757949</td>\n",
       "      <td>0.077656</td>\n",
       "      <td>...</td>\n",
       "      <td>INS_WI_004</td>\n",
       "      <td>-0.086375</td>\n",
       "      <td>32.757625</td>\n",
       "      <td>32.671250</td>\n",
       "      <td>33.2430</td>\n",
       "      <td>SLEEP-S0</td>\n",
       "      <td>32.1250</td>\n",
       "      <td>32.4985</td>\n",
       "      <td>31.46000</td>\n",
       "      <td>0.72</td>\n",
       "    </tr>\n",
       "    <tr>\n",
       "      <th>2015-09-09 20:48:01</th>\n",
       "      <td>33.9460</td>\n",
       "      <td>23.0</td>\n",
       "      <td>32.76025</td>\n",
       "      <td>32.96725</td>\n",
       "      <td>32.49375</td>\n",
       "      <td>34.72850</td>\n",
       "      <td>32.5415</td>\n",
       "      <td>34.5820</td>\n",
       "      <td>0.722714</td>\n",
       "      <td>0.068939</td>\n",
       "      <td>...</td>\n",
       "      <td>INS_WI_004</td>\n",
       "      <td>-0.402188</td>\n",
       "      <td>33.147563</td>\n",
       "      <td>32.745375</td>\n",
       "      <td>33.2745</td>\n",
       "      <td>SLEEP-S0</td>\n",
       "      <td>32.8265</td>\n",
       "      <td>32.5455</td>\n",
       "      <td>31.52275</td>\n",
       "      <td>0.59</td>\n",
       "    </tr>\n",
       "  </tbody>\n",
       "</table>\n",
       "<p>3 rows × 21 columns</p>\n",
       "</div>"
      ],
      "text/plain": [
       "                     Abdomen  Activity      Calf     Chest  Fingertip  \\\n",
       "2015-09-09 20:47:01  33.8525       6.0  32.54225  32.87400   31.93225   \n",
       "2015-09-09 20:47:31  33.8525      27.0  32.54225  32.87400   31.93225   \n",
       "2015-09-09 20:48:01  33.9460      23.0  32.76025  32.96725   32.49375   \n",
       "\n",
       "                         Foot  Forearm  Forehead   HR_mean  HR_stdev  \\\n",
       "2015-09-09 20:47:01  34.49425  32.4790   34.5505  0.763625  0.083970   \n",
       "2015-09-09 20:47:31  34.49425  32.4790   34.5505  0.757949  0.077656   \n",
       "2015-09-09 20:48:01  34.72850  32.5415   34.5820  0.722714  0.068939   \n",
       "\n",
       "                        ...       Patient_id    ST_DPG  ST_Distal  \\\n",
       "2015-09-09 20:47:01     ...       INS_WI_004 -0.086375  32.757625   \n",
       "2015-09-09 20:47:31     ...       INS_WI_004 -0.086375  32.757625   \n",
       "2015-09-09 20:48:01     ...       INS_WI_004 -0.402188  33.147563   \n",
       "\n",
       "                     ST_Proximal  Scapula   Staging      Toe  Upperarm  \\\n",
       "2015-09-09 20:47:01    32.671250  33.2430  SLEEP-S0  32.1250   32.4985   \n",
       "2015-09-09 20:47:31    32.671250  33.2430  SLEEP-S0  32.1250   32.4985   \n",
       "2015-09-09 20:48:01    32.745375  33.2745  SLEEP-S0  32.8265   32.5455   \n",
       "\n",
       "                     Upperleg  White Light  \n",
       "2015-09-09 20:47:01  31.46000         5.30  \n",
       "2015-09-09 20:47:31  31.46000         0.72  \n",
       "2015-09-09 20:48:01  31.52275         0.59  \n",
       "\n",
       "[3 rows x 21 columns]"
      ]
     },
     "execution_count": 3,
     "metadata": {},
     "output_type": "execute_result"
    }
   ],
   "source": [
    "df.info(); df.head(3)"
   ]
  },
  {
   "cell_type": "code",
   "execution_count": 3,
   "metadata": {
    "collapsed": false
   },
   "outputs": [
    {
     "data": {
      "text/plain": [
       "array(['SLEEP-S0', 'SLEEP-S1', 'SLEEP-S2', 'SLEEP-S3', 'SLEEP-REM'], dtype=object)"
      ]
     },
     "execution_count": 3,
     "metadata": {},
     "output_type": "execute_result"
    }
   ],
   "source": [
    "df['Staging'].unique()"
   ]
  },
  {
   "cell_type": "markdown",
   "metadata": {},
   "source": [
    "### Convert `Staging` to `0 (wake)` and `1 (sleep)`\n",
    "**XGBoost can handle missing data in a nice manner**, so we don't need to use forward-filling to fill any missing data"
   ]
  },
  {
   "cell_type": "code",
   "execution_count": 4,
   "metadata": {
    "collapsed": true
   },
   "outputs": [],
   "source": [
    "df['Staging'] = df['Staging'].apply(lambda s: 0 if 'S0' in s else 1)\n",
    "# df = df.ffill()\n",
    "# df = df.bfill()\n",
    "# df.dropna(inplace=True)"
   ]
  },
  {
   "cell_type": "markdown",
   "metadata": {},
   "source": [
    "### Split data into training and test set"
   ]
  },
  {
   "cell_type": "code",
   "execution_count": 5,
   "metadata": {
    "collapsed": true
   },
   "outputs": [],
   "source": [
    "# df_act = df\n",
    "y = df.Staging#.values\n",
    "X = df.copy()\n",
    "X.drop(['Patient_id', 'Staging'], axis=1, inplace=True)\n",
    "# X.drop('Staging', axis=1, inplace=True)\n",
    "#X = X.values"
   ]
  },
  {
   "cell_type": "code",
   "execution_count": 6,
   "metadata": {
    "collapsed": false
   },
   "outputs": [
    {
     "name": "stdout",
     "output_type": "stream",
     "text": [
      "(19369, 19) (19369,)\n"
     ]
    }
   ],
   "source": [
    "print(X.shape, y.shape)"
   ]
  },
  {
   "cell_type": "code",
   "execution_count": 7,
   "metadata": {
    "collapsed": false
   },
   "outputs": [
    {
     "name": "stdout",
     "output_type": "stream",
     "text": [
      "(15495,) (3874,)\n"
     ]
    }
   ],
   "source": [
    "X_train, X_test, y_train, y_test = train_test_split(X, y, test_size=0.2, random_state=7)\n",
    "print(y_train.shape, y_test.shape)"
   ]
  },
  {
   "cell_type": "markdown",
   "metadata": {},
   "source": [
    "## Train XGBoost classifier with the optimal parameters"
   ]
  },
  {
   "cell_type": "code",
   "execution_count": 9,
   "metadata": {
    "collapsed": true
   },
   "outputs": [],
   "source": [
    "xgbclf1 = XGBClassifier(n_estimators=500, max_depth=8, learning_rate=0.1, \n",
    "                        min_child_weight=1, subsample=0.8, colsample_bytree=0.9, scale_pos_weight=0.3)"
   ]
  },
  {
   "cell_type": "code",
   "execution_count": 10,
   "metadata": {
    "collapsed": false
   },
   "outputs": [
    {
     "data": {
      "text/plain": [
       "XGBClassifier(base_score=0.5, colsample_bylevel=1, colsample_bytree=0.9,\n",
       "       gamma=0, learning_rate=0.1, max_delta_step=0, max_depth=8,\n",
       "       min_child_weight=1, missing=None, n_estimators=500, nthread=-1,\n",
       "       objective='binary:logistic', reg_alpha=0, reg_lambda=1,\n",
       "       scale_pos_weight=0.3, seed=0, silent=True, subsample=0.8)"
      ]
     },
     "execution_count": 10,
     "metadata": {},
     "output_type": "execute_result"
    }
   ],
   "source": [
    "xgbclf1.fit(X_train, y_train)"
   ]
  },
  {
   "cell_type": "code",
   "execution_count": 11,
   "metadata": {
    "collapsed": false
   },
   "outputs": [
    {
     "data": {
      "text/plain": [
       "0.9984511132623427"
      ]
     },
     "execution_count": 11,
     "metadata": {},
     "output_type": "execute_result"
    }
   ],
   "source": [
    "xgbclf1.score(X_train, y_train)"
   ]
  },
  {
   "cell_type": "code",
   "execution_count": 22,
   "metadata": {
    "collapsed": true
   },
   "outputs": [],
   "source": [
    "y_pred1 = xgbclf1.predict(X_test)"
   ]
  },
  {
   "cell_type": "code",
   "execution_count": 24,
   "metadata": {
    "collapsed": false
   },
   "outputs": [
    {
     "data": {
      "text/plain": [
       "False"
      ]
     },
     "execution_count": 24,
     "metadata": {},
     "output_type": "execute_result"
    }
   ],
   "source": [
    "y_pred1.dtype == 'float'"
   ]
  },
  {
   "cell_type": "code",
   "execution_count": 13,
   "metadata": {
    "collapsed": false
   },
   "outputs": [
    {
     "data": {
      "text/plain": [
       "0.93236964377903975"
      ]
     },
     "execution_count": 13,
     "metadata": {},
     "output_type": "execute_result"
    }
   ],
   "source": [
    "accuracy_score(y_test, y_pred1)"
   ]
  },
  {
   "cell_type": "code",
   "execution_count": 14,
   "metadata": {
    "collapsed": false
   },
   "outputs": [
    {
     "data": {
      "text/plain": [
       "(array([ 0.83658171,  0.95229186]),\n",
       " array([ 0.78481013,  0.96553905]),\n",
       " array([ 0.80986938,  0.9588697 ]),\n",
       " array([ 711, 3163]))"
      ]
     },
     "execution_count": 14,
     "metadata": {},
     "output_type": "execute_result"
    }
   ],
   "source": [
    "precision_recall_fscore_support(y_test, y_pred1)"
   ]
  },
  {
   "cell_type": "code",
   "execution_count": 15,
   "metadata": {
    "collapsed": false
   },
   "outputs": [
    {
     "name": "stdout",
     "output_type": "stream",
     "text": [
      "             precision    recall  f1-score   support\n",
      "\n",
      "          0       0.84      0.78      0.81       711\n",
      "          1       0.95      0.97      0.96      3163\n",
      "\n",
      "avg / total       0.93      0.93      0.93      3874\n",
      "\n"
     ]
    }
   ],
   "source": [
    "print(classification_report(y_test, y_pred1))"
   ]
  },
  {
   "cell_type": "markdown",
   "metadata": {},
   "source": [
    "### Spot the most importance features "
   ]
  },
  {
   "cell_type": "code",
   "execution_count": 16,
   "metadata": {
    "collapsed": false
   },
   "outputs": [
    {
     "data": {
      "text/plain": [
       "{'Abdomen': 1260,\n",
       " 'Activity': 775,\n",
       " 'Calf': 1693,\n",
       " 'Chest': 1167,\n",
       " 'Fingertip': 1395,\n",
       " 'Foot': 1253,\n",
       " 'Forearm': 1333,\n",
       " 'Forehead': 1285,\n",
       " 'HR_mean': 3182,\n",
       " 'HR_stdev': 3433,\n",
       " 'Hand': 1437,\n",
       " 'ST_DPG': 1624,\n",
       " 'ST_Distal': 1236,\n",
       " 'ST_Proximal': 1160,\n",
       " 'Scapula': 1345,\n",
       " 'Toe': 1629,\n",
       " 'Upperarm': 1317,\n",
       " 'Upperleg': 1174,\n",
       " 'White Light': 1169}"
      ]
     },
     "execution_count": 16,
     "metadata": {},
     "output_type": "execute_result"
    }
   ],
   "source": [
    "xgbclf1.booster().get_fscore()"
   ]
  },
  {
   "cell_type": "code",
   "execution_count": 17,
   "metadata": {
    "collapsed": false
   },
   "outputs": [
    {
     "data": {
      "text/plain": [
       "<matplotlib.axes._subplots.AxesSubplot at 0x7f7d09d12c18>"
      ]
     },
     "execution_count": 17,
     "metadata": {},
     "output_type": "execute_result"
    },
    {
     "data": {
      "image/png": "[encoded data removed]",
      "text/plain": [
       "<matplotlib.figure.Figure at 0x7f7d09558cf8>"
      ]
     },
     "metadata": {},
     "output_type": "display_data"
    }
   ],
   "source": [
    "xgb.plot_importance(xgbclf1.booster())"
   ]
  },
  {
   "cell_type": "markdown",
   "metadata": {},
   "source": [
    "Interestingly, **heart rate** features seems higher than the other features and activity is the least important one. That is why the performance of XGBoost doesn’t drop too much for the dataset of 59 subjects without Actigraphy data. It is the heart not your brain is the governor of your body in Traditional Chinese Medcine view."
   ]
  },
  {
   "cell_type": "markdown",
   "metadata": {},
   "source": [
    "## 10-fold cross validation"
   ]
  },
  {
   "cell_type": "markdown",
   "metadata": {},
   "source": [
    "### Define a function to perform kfold cross validation"
   ]
  },
  {
   "cell_type": "code",
   "execution_count": 263,
   "metadata": {
    "collapsed": true
   },
   "outputs": [],
   "source": [
    "def kfold_cv(clf, df, num_fold=10):\n",
    "    \"\"\"\n",
    "    Perform kfold cross-validation.\n",
    "    Args:\n",
    "        clf: classifier\n",
    "        df: dataframe containing all the required data\n",
    "        num_fold: kfold\n",
    "    Return:\n",
    "        a list of accuracy, precision, recall, f1 score for each cv\n",
    "    \"\"\"\n",
    "    acc_list, pr_weighted_list, rec_weighted_list, f1_weighted_list = [], [], [], []\n",
    "    TP, FP, TN, FN = [], [], [], []\n",
    "    \n",
    "    # remove any entry with unscored and covert to wake-sleep\n",
    "    if df['Staging'].dtype == 'object':\n",
    "        df = df[df['Staging'] != 'SLEEP-UNSCORED']\n",
    "        df['Staging'] = df['Staging'].apply(lambda s: 0 if 'S0' in s else 1)\n",
    "   \n",
    "    if not isinstance(clf, xgb.sklearn.XGBClassifier):\n",
    "        df = df.ffill()\n",
    "        df = df.bfill()\n",
    "        df.dropna(inplace=True)\n",
    "    \n",
    "    skf = model_selection.StratifiedKFold(num_fold, shuffle=True)        \n",
    "    X = df.drop(['Patient_id', 'Staging'], axis=1)\n",
    "    y = df['Staging']\n",
    "     \n",
    "    for train_ix, test_ix in skf.split(X, y):\n",
    "        \n",
    "        print(\"length of validation set:\", len(test_ix))\n",
    "#         print(df[df['Patient_id']!=sub_test]['Patient_id'].unique())\n",
    "        y_test = y.iloc[test_ix]\n",
    "        X_test = X.iloc[test_ix, :]\n",
    "        y_train = y.iloc[train_ix]\n",
    "        X_train = X.iloc[train_ix, :]\n",
    "\n",
    "        if not isinstance(clf, xgb.sklearn.XGBClassifier):\n",
    "            X_train = X_train.values \n",
    "            X_test = X_test.values\n",
    "            y_train = y_train.values\n",
    "            y_test = y_test.values\n",
    "            \n",
    "        # train the clf\n",
    "        clf.fit(X_train, y_train)\n",
    "        pred = clf.predict(X_test)\n",
    "\n",
    "        # compute scores\n",
    "        acc_list.append(accuracy_score(y_test, pred))\n",
    "        pr_weighted_list.append(precision_score(y_test, pred, average='weighted'))\n",
    "        rec_weighted_list.append(recall_score(y_test, pred, average='weighted'))\n",
    "        f1_weighted_list.append(f1_score(y_test, pred, average='weighted'))\n",
    "\n",
    "        cm = confusion_matrix(y_test, pred)\n",
    "        TP.append(cm[1, 1])\n",
    "        FP.append(cm[0, 1])\n",
    "        TN.append(cm[0, 0])\n",
    "        FN.append(cm[1, 0])\n",
    "        \n",
    "    cv_scores = pd.DataFrame({'Fold':[i for i in range(1, num_fold+1)], 'Accuracy':acc_list, \n",
    "                              'Precision_weighted': pr_weighted_list,\n",
    "                              'Recall_weighted': rec_weighted_list, 'F1_weighted': f1_weighted_list,\n",
    "                              'TP': TP, 'FP': FP, 'FN': FN, 'TN':TN})\n",
    "    return cv_scores\n",
    "            \n",
    "#     return subjects, acc_list, prf_list1, prf_list2,cm"
   ]
  },
  {
   "cell_type": "code",
   "execution_count": 109,
   "metadata": {
    "collapsed": false
   },
   "outputs": [
    {
     "name": "stdout",
     "output_type": "stream",
     "text": [
      "length of validation set: 1938\n",
      "length of validation set: 1938\n",
      "length of validation set: 1938\n",
      "length of validation set: 1937\n",
      "length of validation set: 1937\n",
      "length of validation set: 1937\n",
      "length of validation set: 1936\n",
      "length of validation set: 1936\n",
      "length of validation set: 1936\n",
      "length of validation set: 1936\n"
     ]
    }
   ],
   "source": [
    "xgbclf = XGBClassifier(n_estimators=1500, max_depth=8, learning_rate=0.3, \n",
    "                        min_child_weight=1, subsample=0.8, colsample_bytree=0.9)\n",
    "\n",
    "kfold_scores = kfold_cv(xgbclf, df, num_fold=10)"
   ]
  },
  {
   "cell_type": "code",
   "execution_count": 26,
   "metadata": {
    "collapsed": false
   },
   "outputs": [
    {
     "data": {
      "text/html": [
       "<div>\n",
       "<table border=\"1\" class=\"dataframe\">\n",
       "  <thead>\n",
       "    <tr style=\"text-align: right;\">\n",
       "      <th></th>\n",
       "      <th>Accuracy</th>\n",
       "      <th>F1_weighted</th>\n",
       "      <th>FN</th>\n",
       "      <th>FP</th>\n",
       "      <th>Fold</th>\n",
       "      <th>Precision_weighted</th>\n",
       "      <th>Recall_weighted</th>\n",
       "      <th>TN</th>\n",
       "      <th>TP</th>\n",
       "    </tr>\n",
       "  </thead>\n",
       "  <tbody>\n",
       "    <tr>\n",
       "      <th>0</th>\n",
       "      <td>0.938596</td>\n",
       "      <td>0.937763</td>\n",
       "      <td>47</td>\n",
       "      <td>72</td>\n",
       "      <td>1</td>\n",
       "      <td>0.937417</td>\n",
       "      <td>0.938596</td>\n",
       "      <td>297</td>\n",
       "      <td>1522</td>\n",
       "    </tr>\n",
       "    <tr>\n",
       "      <th>1</th>\n",
       "      <td>0.925181</td>\n",
       "      <td>0.924079</td>\n",
       "      <td>59</td>\n",
       "      <td>86</td>\n",
       "      <td>2</td>\n",
       "      <td>0.923528</td>\n",
       "      <td>0.925181</td>\n",
       "      <td>283</td>\n",
       "      <td>1510</td>\n",
       "    </tr>\n",
       "    <tr>\n",
       "      <th>2</th>\n",
       "      <td>0.930857</td>\n",
       "      <td>0.929719</td>\n",
       "      <td>52</td>\n",
       "      <td>82</td>\n",
       "      <td>3</td>\n",
       "      <td>0.929276</td>\n",
       "      <td>0.930857</td>\n",
       "      <td>287</td>\n",
       "      <td>1517</td>\n",
       "    </tr>\n",
       "    <tr>\n",
       "      <th>3</th>\n",
       "      <td>0.936500</td>\n",
       "      <td>0.935344</td>\n",
       "      <td>45</td>\n",
       "      <td>78</td>\n",
       "      <td>4</td>\n",
       "      <td>0.935048</td>\n",
       "      <td>0.936500</td>\n",
       "      <td>291</td>\n",
       "      <td>1523</td>\n",
       "    </tr>\n",
       "    <tr>\n",
       "      <th>4</th>\n",
       "      <td>0.932370</td>\n",
       "      <td>0.930315</td>\n",
       "      <td>39</td>\n",
       "      <td>92</td>\n",
       "      <td>5</td>\n",
       "      <td>0.930546</td>\n",
       "      <td>0.932370</td>\n",
       "      <td>277</td>\n",
       "      <td>1529</td>\n",
       "    </tr>\n",
       "    <tr>\n",
       "      <th>5</th>\n",
       "      <td>0.933918</td>\n",
       "      <td>0.932520</td>\n",
       "      <td>45</td>\n",
       "      <td>83</td>\n",
       "      <td>6</td>\n",
       "      <td>0.932265</td>\n",
       "      <td>0.933918</td>\n",
       "      <td>286</td>\n",
       "      <td>1523</td>\n",
       "    </tr>\n",
       "    <tr>\n",
       "      <th>6</th>\n",
       "      <td>0.930785</td>\n",
       "      <td>0.929562</td>\n",
       "      <td>51</td>\n",
       "      <td>83</td>\n",
       "      <td>7</td>\n",
       "      <td>0.929134</td>\n",
       "      <td>0.930785</td>\n",
       "      <td>285</td>\n",
       "      <td>1517</td>\n",
       "    </tr>\n",
       "    <tr>\n",
       "      <th>7</th>\n",
       "      <td>0.935434</td>\n",
       "      <td>0.933465</td>\n",
       "      <td>36</td>\n",
       "      <td>89</td>\n",
       "      <td>8</td>\n",
       "      <td>0.933808</td>\n",
       "      <td>0.935434</td>\n",
       "      <td>279</td>\n",
       "      <td>1532</td>\n",
       "    </tr>\n",
       "    <tr>\n",
       "      <th>8</th>\n",
       "      <td>0.933884</td>\n",
       "      <td>0.933096</td>\n",
       "      <td>53</td>\n",
       "      <td>75</td>\n",
       "      <td>9</td>\n",
       "      <td>0.932680</td>\n",
       "      <td>0.933884</td>\n",
       "      <td>293</td>\n",
       "      <td>1515</td>\n",
       "    </tr>\n",
       "    <tr>\n",
       "      <th>9</th>\n",
       "      <td>0.936983</td>\n",
       "      <td>0.936513</td>\n",
       "      <td>54</td>\n",
       "      <td>68</td>\n",
       "      <td>10</td>\n",
       "      <td>0.936191</td>\n",
       "      <td>0.936983</td>\n",
       "      <td>300</td>\n",
       "      <td>1514</td>\n",
       "    </tr>\n",
       "  </tbody>\n",
       "</table>\n",
       "</div>"
      ],
      "text/plain": [
       "   Accuracy  F1_weighted  FN  FP  Fold  Precision_weighted  Recall_weighted  \\\n",
       "0  0.938596     0.937763  47  72     1            0.937417         0.938596   \n",
       "1  0.925181     0.924079  59  86     2            0.923528         0.925181   \n",
       "2  0.930857     0.929719  52  82     3            0.929276         0.930857   \n",
       "3  0.936500     0.935344  45  78     4            0.935048         0.936500   \n",
       "4  0.932370     0.930315  39  92     5            0.930546         0.932370   \n",
       "5  0.933918     0.932520  45  83     6            0.932265         0.933918   \n",
       "6  0.930785     0.929562  51  83     7            0.929134         0.930785   \n",
       "7  0.935434     0.933465  36  89     8            0.933808         0.935434   \n",
       "8  0.933884     0.933096  53  75     9            0.932680         0.933884   \n",
       "9  0.936983     0.936513  54  68    10            0.936191         0.936983   \n",
       "\n",
       "    TN    TP  \n",
       "0  297  1522  \n",
       "1  283  1510  \n",
       "2  287  1517  \n",
       "3  291  1523  \n",
       "4  277  1529  \n",
       "5  286  1523  \n",
       "6  285  1517  \n",
       "7  279  1532  \n",
       "8  293  1515  \n",
       "9  300  1514  "
      ]
     },
     "execution_count": 26,
     "metadata": {},
     "output_type": "execute_result"
    }
   ],
   "source": [
    "\n",
    "kfold_scores = pd.read_csv(\"./xgb_10fold_cv_scores_20subjects.csv\", index_col=0)\n",
    "kfold_scores"
   ]
  },
  {
   "cell_type": "code",
   "execution_count": 276,
   "metadata": {
    "collapsed": false
   },
   "outputs": [
    {
     "data": {
      "image/png": "[encoded data removed]",
      "text/plain": [
       "<matplotlib.figure.Figure at 0x7f4f8f085208>"
      ]
     },
     "metadata": {},
     "output_type": "display_data"
    }
   ],
   "source": [
    "plt.plot(kfold_scores['Fold'], kfold_scores['Accuracy'], '-o')\n",
    "plt.plot(kfold_scores['Fold'], kfold_scores['F1_weighted'], '-o')\n",
    "# plt.plot(kfold_scores['Fold'], kfold_scores['Recall_weighted'], '-o')\n",
    "plt.xlim(0, kfold_scores.shape[0]+1)\n",
    "plt.ylim(0.90, 0.94)\n",
    "plt.legend(loc=0)\n",
    "# kfold_scores.plot.scatter(x=kfold_scores.index, y='Accuarcy')\n",
    "plt.show()"
   ]
  },
  {
   "cell_type": "markdown",
   "metadata": {},
   "source": [
    "# XGBoost classifier for subjects without Actigraphy data - dataset 2 with 59 subjects"
   ]
  },
  {
   "cell_type": "code",
   "execution_count": 257,
   "metadata": {
    "collapsed": true
   },
   "outputs": [
    {
     "name": "stdout",
     "output_type": "stream",
     "text": [
      "<class 'pandas.core.frame.DataFrame'>\n",
      "DatetimeIndex: 56174 entries, 2015-09-02 22:49:52 to 2015-10-01 07:01:16\n",
      "Data columns (total 19 columns):\n",
      "Abdomen        56142 non-null float64\n",
      "Calf           54484 non-null float64\n",
      "Chest          56157 non-null float64\n",
      "Fingertip      55253 non-null float64\n",
      "Foot           56132 non-null float64\n",
      "Forearm        55457 non-null float64\n",
      "Forehead       55382 non-null float64\n",
      "HR_mean        53119 non-null float64\n",
      "HR_stdev       53081 non-null float64\n",
      "Hand           53307 non-null float64\n",
      "Patient_id     56174 non-null object\n",
      "ST_DPG         56148 non-null float64\n",
      "ST_Distal      56148 non-null float64\n",
      "ST_Proximal    56157 non-null float64\n",
      "Scapula        55310 non-null float64\n",
      "Staging        56174 non-null object\n",
      "Toe            53836 non-null float64\n",
      "Upperarm       54214 non-null float64\n",
      "Upperleg       53331 non-null float64\n",
      "dtypes: float64(17), object(2)\n",
      "memory usage: 8.6+ MB\n"
     ]
    },
    {
     "data": {
      "text/html": [
       "<div>\n",
       "<table border=\"1\" class=\"dataframe\">\n",
       "  <thead>\n",
       "    <tr style=\"text-align: right;\">\n",
       "      <th></th>\n",
       "      <th>Abdomen</th>\n",
       "      <th>Calf</th>\n",
       "      <th>Chest</th>\n",
       "      <th>Fingertip</th>\n",
       "      <th>Foot</th>\n",
       "      <th>Forearm</th>\n",
       "      <th>Forehead</th>\n",
       "      <th>HR_mean</th>\n",
       "      <th>HR_stdev</th>\n",
       "      <th>Hand</th>\n",
       "      <th>Patient_id</th>\n",
       "      <th>ST_DPG</th>\n",
       "      <th>ST_Distal</th>\n",
       "      <th>ST_Proximal</th>\n",
       "      <th>Scapula</th>\n",
       "      <th>Staging</th>\n",
       "      <th>Toe</th>\n",
       "      <th>Upperarm</th>\n",
       "      <th>Upperleg</th>\n",
       "    </tr>\n",
       "  </thead>\n",
       "  <tbody>\n",
       "    <tr>\n",
       "      <th>2015-09-02 22:49:52</th>\n",
       "      <td>35.45875</td>\n",
       "      <td>35.45875</td>\n",
       "      <td>33.934</td>\n",
       "      <td>31.40175</td>\n",
       "      <td>35.45875</td>\n",
       "      <td>33.934</td>\n",
       "      <td>33.81725</td>\n",
       "      <td>0.911394</td>\n",
       "      <td>0.071224</td>\n",
       "      <td>32.90025</td>\n",
       "      <td>INS_WI_001</td>\n",
       "      <td>0.510312</td>\n",
       "      <td>33.804875</td>\n",
       "      <td>34.315187</td>\n",
       "      <td>33.934</td>\n",
       "      <td>SLEEP-S0</td>\n",
       "      <td>35.45875</td>\n",
       "      <td>33.934</td>\n",
       "      <td>33.934</td>\n",
       "    </tr>\n",
       "    <tr>\n",
       "      <th>2015-09-02 22:50:22</th>\n",
       "      <td>35.45875</td>\n",
       "      <td>35.45875</td>\n",
       "      <td>34.059</td>\n",
       "      <td>31.41750</td>\n",
       "      <td>35.45875</td>\n",
       "      <td>34.059</td>\n",
       "      <td>33.81725</td>\n",
       "      <td>0.885559</td>\n",
       "      <td>0.020428</td>\n",
       "      <td>32.83775</td>\n",
       "      <td>INS_WI_001</td>\n",
       "      <td>0.615750</td>\n",
       "      <td>33.793187</td>\n",
       "      <td>34.408937</td>\n",
       "      <td>34.059</td>\n",
       "      <td>SLEEP-S0</td>\n",
       "      <td>35.45875</td>\n",
       "      <td>34.059</td>\n",
       "      <td>34.059</td>\n",
       "    </tr>\n",
       "    <tr>\n",
       "      <th>2015-09-02 22:50:52</th>\n",
       "      <td>35.45875</td>\n",
       "      <td>35.45875</td>\n",
       "      <td>34.059</td>\n",
       "      <td>31.41750</td>\n",
       "      <td>35.45875</td>\n",
       "      <td>34.059</td>\n",
       "      <td>33.81725</td>\n",
       "      <td>0.855143</td>\n",
       "      <td>0.066847</td>\n",
       "      <td>32.83775</td>\n",
       "      <td>INS_WI_001</td>\n",
       "      <td>0.615750</td>\n",
       "      <td>33.793187</td>\n",
       "      <td>34.408937</td>\n",
       "      <td>34.059</td>\n",
       "      <td>SLEEP-S0</td>\n",
       "      <td>35.45875</td>\n",
       "      <td>34.059</td>\n",
       "      <td>34.059</td>\n",
       "    </tr>\n",
       "  </tbody>\n",
       "</table>\n",
       "</div>"
      ],
      "text/plain": [
       "                      Abdomen      Calf   Chest  Fingertip      Foot  Forearm  \\\n",
       "2015-09-02 22:49:52  35.45875  35.45875  33.934   31.40175  35.45875   33.934   \n",
       "2015-09-02 22:50:22  35.45875  35.45875  34.059   31.41750  35.45875   34.059   \n",
       "2015-09-02 22:50:52  35.45875  35.45875  34.059   31.41750  35.45875   34.059   \n",
       "\n",
       "                     Forehead   HR_mean  HR_stdev      Hand  Patient_id  \\\n",
       "2015-09-02 22:49:52  33.81725  0.911394  0.071224  32.90025  INS_WI_001   \n",
       "2015-09-02 22:50:22  33.81725  0.885559  0.020428  32.83775  INS_WI_001   \n",
       "2015-09-02 22:50:52  33.81725  0.855143  0.066847  32.83775  INS_WI_001   \n",
       "\n",
       "                       ST_DPG  ST_Distal  ST_Proximal  Scapula   Staging  \\\n",
       "2015-09-02 22:49:52  0.510312  33.804875    34.315187   33.934  SLEEP-S0   \n",
       "2015-09-02 22:50:22  0.615750  33.793187    34.408937   34.059  SLEEP-S0   \n",
       "2015-09-02 22:50:52  0.615750  33.793187    34.408937   34.059  SLEEP-S0   \n",
       "\n",
       "                          Toe  Upperarm  Upperleg  \n",
       "2015-09-02 22:49:52  35.45875    33.934    33.934  \n",
       "2015-09-02 22:50:22  35.45875    34.059    34.059  \n",
       "2015-09-02 22:50:52  35.45875    34.059    34.059  "
      ]
     },
     "execution_count": 257,
     "metadata": {},
     "output_type": "execute_result"
    }
   ],
   "source": [
    "df2 = pd.read_csv(\"./Input/ins_subjects_no_act_161016.csv\", index_col=0, parse_dates=True)\n",
    "df2.info(); df2.head(3)"
   ]
  },
  {
   "cell_type": "code",
   "execution_count": 294,
   "metadata": {
    "collapsed": false
   },
   "outputs": [
    {
     "data": {
      "text/plain": [
       "59"
      ]
     },
     "execution_count": 294,
     "metadata": {},
     "output_type": "execute_result"
    }
   ],
   "source": [
    "len(df2['Patient_id'].unique())"
   ]
  },
  {
   "cell_type": "markdown",
   "metadata": {},
   "source": [
    "### remove any entry with unscored and covert to wake-sleep"
   ]
  },
  {
   "cell_type": "code",
   "execution_count": 295,
   "metadata": {
    "collapsed": true
   },
   "outputs": [],
   "source": [
    "df2 = df2[df2['Staging']!='SLEEP-UNSCORED']"
   ]
  },
  {
   "cell_type": "code",
   "execution_count": 296,
   "metadata": {
    "collapsed": false
   },
   "outputs": [
    {
     "data": {
      "text/plain": [
       "array([], dtype=object)"
      ]
     },
     "execution_count": 296,
     "metadata": {},
     "output_type": "execute_result"
    }
   ],
   "source": [
    "df2[df2['Staging']=='SLEEP-UNSCORED']['Patient_id'].unique()"
   ]
  },
  {
   "cell_type": "code",
   "execution_count": 297,
   "metadata": {
    "collapsed": false
   },
   "outputs": [
    {
     "data": {
      "text/plain": [
       "(55913, 19)"
      ]
     },
     "execution_count": 297,
     "metadata": {},
     "output_type": "execute_result"
    }
   ],
   "source": [
    "df2['Staging'] = df2['Staging'].apply(lambda s: 0 if 'S0' in s else 1)\n",
    "df2.shape"
   ]
  },
  {
   "cell_type": "code",
   "execution_count": 141,
   "metadata": {
    "collapsed": true
   },
   "outputs": [],
   "source": [
    "y = df2.Staging#.values\n",
    "X = df2.copy()\n",
    "X.drop('Staging', axis=1, inplace=True)\n",
    "X.drop('Patient_id', axis=1, inplace=True)\n",
    "#X = X.values"
   ]
  },
  {
   "cell_type": "code",
   "execution_count": 184,
   "metadata": {
    "collapsed": false
   },
   "outputs": [
    {
     "name": "stdout",
     "output_type": "stream",
     "text": [
      "(55913, 17) (55913,)\n"
     ]
    }
   ],
   "source": [
    "print(X.shape, y.shape)"
   ]
  },
  {
   "cell_type": "code",
   "execution_count": 143,
   "metadata": {
    "collapsed": false
   },
   "outputs": [
    {
     "name": "stdout",
     "output_type": "stream",
     "text": [
      "(44730,) (11183,)\n"
     ]
    }
   ],
   "source": [
    "X_train, X_test, y_train, y_test = train_test_split(X, y, test_size=0.2, random_state=0)\n",
    "print(y_train.shape, y_test.shape)"
   ]
  },
  {
   "cell_type": "markdown",
   "metadata": {},
   "source": [
    "## Train XGBoost classifier with the optimal parameters"
   ]
  },
  {
   "cell_type": "code",
   "execution_count": 185,
   "metadata": {
    "collapsed": true
   },
   "outputs": [],
   "source": [
    "xgbclf3 = XGBClassifier(n_estimators=500, max_depth=8, learning_rate=0.1, \n",
    "                        min_child_weight=1, subsample=0.8, colsample_bytree=0.9, scale_pos_weight=0.3)"
   ]
  },
  {
   "cell_type": "code",
   "execution_count": 228,
   "metadata": {
    "collapsed": false
   },
   "outputs": [
    {
     "data": {
      "text/plain": [
       "XGBClassifier(base_score=0.5, colsample_bylevel=1, colsample_bytree=0.9,\n",
       "       gamma=0, learning_rate=0.1, max_delta_step=0, max_depth=8,\n",
       "       min_child_weight=1, missing=None, n_estimators=500, nthread=-1,\n",
       "       objective='binary:logistic', reg_alpha=0, reg_lambda=1,\n",
       "       scale_pos_weight=0.3, seed=0, silent=True, subsample=0.8)"
      ]
     },
     "execution_count": 228,
     "metadata": {},
     "output_type": "execute_result"
    }
   ],
   "source": [
    "xgbclf3.fit(X_train, y_train)"
   ]
  },
  {
   "cell_type": "code",
   "execution_count": 229,
   "metadata": {
    "collapsed": false
   },
   "outputs": [
    {
     "data": {
      "text/plain": [
       "0.98598256203890011"
      ]
     },
     "execution_count": 229,
     "metadata": {},
     "output_type": "execute_result"
    }
   ],
   "source": [
    "xgbclf3.score(X_train, y_train)"
   ]
  },
  {
   "cell_type": "code",
   "execution_count": 230,
   "metadata": {
    "collapsed": true
   },
   "outputs": [],
   "source": [
    "y_pred3 = xgbclf3.predict(X_test)"
   ]
  },
  {
   "cell_type": "code",
   "execution_count": 191,
   "metadata": {
    "collapsed": true
   },
   "outputs": [],
   "source": [
    "y_pred_prob3 = xgbclf3.predict_proba(X_test)"
   ]
  },
  {
   "cell_type": "code",
   "execution_count": 192,
   "metadata": {
    "collapsed": false
   },
   "outputs": [
    {
     "data": {
      "text/plain": [
       "array([[ 0.06018609,  0.93981391],\n",
       "       [ 0.00716877,  0.99283123],\n",
       "       [ 0.06549108,  0.93450892],\n",
       "       ..., \n",
       "       [ 0.05943495,  0.94056505],\n",
       "       [ 0.01555103,  0.98444897],\n",
       "       [ 0.91095185,  0.08904817]], dtype=float32)"
      ]
     },
     "execution_count": 192,
     "metadata": {},
     "output_type": "execute_result"
    }
   ],
   "source": [
    "y_pred_prob3"
   ]
  },
  {
   "cell_type": "code",
   "execution_count": 231,
   "metadata": {
    "collapsed": false
   },
   "outputs": [
    {
     "data": {
      "text/plain": [
       "0.9027988911741035"
      ]
     },
     "execution_count": 231,
     "metadata": {},
     "output_type": "execute_result"
    }
   ],
   "source": [
    "accuracy_score(y_test, y_pred3)"
   ]
  },
  {
   "cell_type": "code",
   "execution_count": 232,
   "metadata": {
    "collapsed": false
   },
   "outputs": [
    {
     "data": {
      "text/plain": [
       "(0.90315020991403161, 0.9027988911741035, 0.90296615490400289, None)"
      ]
     },
     "execution_count": 232,
     "metadata": {},
     "output_type": "execute_result"
    }
   ],
   "source": [
    "precision_recall_fscore_support(y_test, y_pred3, average='weighted')"
   ]
  },
  {
   "cell_type": "code",
   "execution_count": 233,
   "metadata": {
    "collapsed": false
   },
   "outputs": [
    {
     "name": "stdout",
     "output_type": "stream",
     "text": [
      "             precision    recall  f1-score   support\n",
      "\n",
      "          0    0.80928   0.81793   0.81358      2900\n",
      "          1    0.93602   0.93251   0.93426      8283\n",
      "\n",
      "avg / total    0.90315   0.90280   0.90297     11183\n",
      "\n"
     ]
    }
   ],
   "source": [
    "print(classification_report(y_test, y_pred3, digits=5))"
   ]
  },
  {
   "cell_type": "markdown",
   "metadata": {},
   "source": [
    "### Spot the most importance features "
   ]
  },
  {
   "cell_type": "code",
   "execution_count": null,
   "metadata": {
    "collapsed": false
   },
   "outputs": [],
   "source": [
    "xgbclf3.booster().get_fscore()"
   ]
  },
  {
   "cell_type": "code",
   "execution_count": 234,
   "metadata": {
    "collapsed": false
   },
   "outputs": [
    {
     "data": {
      "text/plain": [
       "<matplotlib.axes._subplots.AxesSubplot at 0x7f4f8f0c8da0>"
      ]
     },
     "execution_count": 234,
     "metadata": {},
     "output_type": "execute_result"
    },
    {
     "data": {
      "image/png": "[encoded data removed]",
      "text/plain": [
       "<matplotlib.figure.Figure at 0x7f4f8df1bdd8>"
      ]
     },
     "metadata": {},
     "output_type": "display_data"
    }
   ],
   "source": [
    "xgb.plot_importance(xgbclf3.booster())"
   ]
  },
  {
   "cell_type": "markdown",
   "metadata": {},
   "source": [
    "## 10-fold cross validation"
   ]
  },
  {
   "cell_type": "code",
   "execution_count": 151,
   "metadata": {
    "collapsed": false
   },
   "outputs": [
    {
     "name": "stdout",
     "output_type": "stream",
     "text": [
      "length of validation set: 5593\n",
      "length of validation set: 5592\n",
      "length of validation set: 5591\n",
      "length of validation set: 5591\n",
      "length of validation set: 5591\n",
      "length of validation set: 5591\n",
      "length of validation set: 5591\n",
      "length of validation set: 5591\n",
      "length of validation set: 5591\n",
      "length of validation set: 5591\n"
     ]
    }
   ],
   "source": [
    "xgbclf = XGBClassifier(n_estimators=1500, max_depth=8, learning_rate=0.3, \n",
    "                        min_child_weight=1, subsample=0.8, colsample_bytree=0.9)\n",
    "\n",
    "kfold_scores2 = kfold_cv(xgbclf, df2, num_fold=10)"
   ]
  },
  {
   "cell_type": "code",
   "execution_count": 27,
   "metadata": {
    "collapsed": false
   },
   "outputs": [
    {
     "data": {
      "text/html": [
       "<div>\n",
       "<table border=\"1\" class=\"dataframe\">\n",
       "  <thead>\n",
       "    <tr style=\"text-align: right;\">\n",
       "      <th></th>\n",
       "      <th>Accuracy</th>\n",
       "      <th>F1_weighted</th>\n",
       "      <th>FN</th>\n",
       "      <th>FP</th>\n",
       "      <th>Fold</th>\n",
       "      <th>Precision_weighted</th>\n",
       "      <th>Recall_weighted</th>\n",
       "      <th>TN</th>\n",
       "      <th>TP</th>\n",
       "    </tr>\n",
       "  </thead>\n",
       "  <tbody>\n",
       "    <tr>\n",
       "      <th>0</th>\n",
       "      <td>0.919721</td>\n",
       "      <td>0.918022</td>\n",
       "      <td>139</td>\n",
       "      <td>310</td>\n",
       "      <td>1</td>\n",
       "      <td>0.918602</td>\n",
       "      <td>0.919721</td>\n",
       "      <td>1142</td>\n",
       "      <td>4002</td>\n",
       "    </tr>\n",
       "    <tr>\n",
       "      <th>1</th>\n",
       "      <td>0.922210</td>\n",
       "      <td>0.920938</td>\n",
       "      <td>150</td>\n",
       "      <td>285</td>\n",
       "      <td>2</td>\n",
       "      <td>0.921070</td>\n",
       "      <td>0.922210</td>\n",
       "      <td>1167</td>\n",
       "      <td>3990</td>\n",
       "    </tr>\n",
       "    <tr>\n",
       "      <th>2</th>\n",
       "      <td>0.919156</td>\n",
       "      <td>0.917843</td>\n",
       "      <td>159</td>\n",
       "      <td>293</td>\n",
       "      <td>3</td>\n",
       "      <td>0.917905</td>\n",
       "      <td>0.919156</td>\n",
       "      <td>1158</td>\n",
       "      <td>3981</td>\n",
       "    </tr>\n",
       "    <tr>\n",
       "      <th>3</th>\n",
       "      <td>0.917009</td>\n",
       "      <td>0.915855</td>\n",
       "      <td>174</td>\n",
       "      <td>290</td>\n",
       "      <td>4</td>\n",
       "      <td>0.915719</td>\n",
       "      <td>0.917009</td>\n",
       "      <td>1161</td>\n",
       "      <td>3966</td>\n",
       "    </tr>\n",
       "    <tr>\n",
       "      <th>4</th>\n",
       "      <td>0.917009</td>\n",
       "      <td>0.915574</td>\n",
       "      <td>161</td>\n",
       "      <td>303</td>\n",
       "      <td>5</td>\n",
       "      <td>0.915683</td>\n",
       "      <td>0.917009</td>\n",
       "      <td>1148</td>\n",
       "      <td>3979</td>\n",
       "    </tr>\n",
       "    <tr>\n",
       "      <th>5</th>\n",
       "      <td>0.921302</td>\n",
       "      <td>0.920446</td>\n",
       "      <td>174</td>\n",
       "      <td>266</td>\n",
       "      <td>6</td>\n",
       "      <td>0.920230</td>\n",
       "      <td>0.921302</td>\n",
       "      <td>1185</td>\n",
       "      <td>3966</td>\n",
       "    </tr>\n",
       "    <tr>\n",
       "      <th>6</th>\n",
       "      <td>0.914684</td>\n",
       "      <td>0.913530</td>\n",
       "      <td>182</td>\n",
       "      <td>295</td>\n",
       "      <td>7</td>\n",
       "      <td>0.913337</td>\n",
       "      <td>0.914684</td>\n",
       "      <td>1156</td>\n",
       "      <td>3958</td>\n",
       "    </tr>\n",
       "    <tr>\n",
       "      <th>7</th>\n",
       "      <td>0.918083</td>\n",
       "      <td>0.917089</td>\n",
       "      <td>178</td>\n",
       "      <td>280</td>\n",
       "      <td>8</td>\n",
       "      <td>0.916880</td>\n",
       "      <td>0.918083</td>\n",
       "      <td>1171</td>\n",
       "      <td>3962</td>\n",
       "    </tr>\n",
       "    <tr>\n",
       "      <th>8</th>\n",
       "      <td>0.915221</td>\n",
       "      <td>0.913998</td>\n",
       "      <td>177</td>\n",
       "      <td>297</td>\n",
       "      <td>9</td>\n",
       "      <td>0.913863</td>\n",
       "      <td>0.915221</td>\n",
       "      <td>1154</td>\n",
       "      <td>3963</td>\n",
       "    </tr>\n",
       "    <tr>\n",
       "      <th>9</th>\n",
       "      <td>0.916294</td>\n",
       "      <td>0.915194</td>\n",
       "      <td>179</td>\n",
       "      <td>289</td>\n",
       "      <td>10</td>\n",
       "      <td>0.915006</td>\n",
       "      <td>0.916294</td>\n",
       "      <td>1162</td>\n",
       "      <td>3961</td>\n",
       "    </tr>\n",
       "  </tbody>\n",
       "</table>\n",
       "</div>"
      ],
      "text/plain": [
       "   Accuracy  F1_weighted   FN   FP  Fold  Precision_weighted  Recall_weighted  \\\n",
       "0  0.919721     0.918022  139  310     1            0.918602         0.919721   \n",
       "1  0.922210     0.920938  150  285     2            0.921070         0.922210   \n",
       "2  0.919156     0.917843  159  293     3            0.917905         0.919156   \n",
       "3  0.917009     0.915855  174  290     4            0.915719         0.917009   \n",
       "4  0.917009     0.915574  161  303     5            0.915683         0.917009   \n",
       "5  0.921302     0.920446  174  266     6            0.920230         0.921302   \n",
       "6  0.914684     0.913530  182  295     7            0.913337         0.914684   \n",
       "7  0.918083     0.917089  178  280     8            0.916880         0.918083   \n",
       "8  0.915221     0.913998  177  297     9            0.913863         0.915221   \n",
       "9  0.916294     0.915194  179  289    10            0.915006         0.916294   \n",
       "\n",
       "     TN    TP  \n",
       "0  1142  4002  \n",
       "1  1167  3990  \n",
       "2  1158  3981  \n",
       "3  1161  3966  \n",
       "4  1148  3979  \n",
       "5  1185  3966  \n",
       "6  1156  3958  \n",
       "7  1171  3962  \n",
       "8  1154  3963  \n",
       "9  1162  3961  "
      ]
     },
     "execution_count": 27,
     "metadata": {},
     "output_type": "execute_result"
    }
   ],
   "source": [
    "\n",
    "kfold_scores2 = pd.read_csv(\"./xgb_10fold_cv_scores_59subjects.csv\", index_col=0)\n",
    "kfold_scores2"
   ]
  },
  {
   "cell_type": "code",
   "execution_count": 281,
   "metadata": {
    "collapsed": false
   },
   "outputs": [
    {
     "data": {
      "image/png": "[encoded data removed]",
      "text/plain": [
       "<matplotlib.figure.Figure at 0x7f4f92058c88>"
      ]
     },
     "metadata": {},
     "output_type": "display_data"
    }
   ],
   "source": [
    "plt.plot(kfold_scores2['Fold'], kfold_scores2['Accuracy'], '-o')\n",
    "plt.plot(kfold_scores2['Fold'], kfold_scores2['F1_weighted'], '-o')\n",
    "# plt.plot(kfold_scores['Fold'], kfold_scores['Recall_weighted'], '-o')\n",
    "plt.xlim(0, kfold_scores2.shape[0]+1)\n",
    "plt.ylim(0.90, 0.94)\n",
    "plt.legend(loc=0)\n",
    "# kfold_scores.plot.scatter(x=kfold_scores.index, y='Accuarcy')\n",
    "plt.show()"
   ]
  }
 ],
 "metadata": {
  "anaconda-cloud": {},
  "kernelspec": {
   "display_name": "Python [default]",
   "language": "python",
   "name": "python3"
  },
  "language_info": {
   "codemirror_mode": {
    "name": "ipython",
    "version": 3
   },
   "file_extension": ".py",
   "mimetype": "text/x-python",
   "name": "python",
   "nbconvert_exporter": "python",
   "pygments_lexer": "ipython3",
   "version": "3.5.2"
  }
 },
 "nbformat": 4,
 "nbformat_minor": 1
}
